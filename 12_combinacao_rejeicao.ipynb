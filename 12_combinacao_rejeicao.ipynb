{
 "cells": [
  {
   "cell_type": "code",
   "execution_count": 1,
   "metadata": {},
   "outputs": [],
   "source": [
    "from sklearn.model_selection import GridSearchCV\n",
    "from sklearn.tree import DecisionTreeClassifier\n",
    "from sklearn.ensemble import RandomForestClassifier\n",
    "from sklearn.neighbors import KNeighborsClassifier\n",
    "from sklearn.linear_model import LogisticRegression\n",
    "from sklearn.svm import SVC\n",
    "from sklearn.neural_network import MLPClassifier\n",
    "import numpy as np\n",
    "import pandas as pd\n",
    "import seaborn as sns\n",
    "import pickle"
   ]
  },
  {
   "cell_type": "code",
   "execution_count": 2,
   "metadata": {},
   "outputs": [],
   "source": [
    "rede_neural = pickle.load(open('rede_neural_finalizado.sav', 'rb'))\n",
    "arvore = pickle.load(open('arvore_finalizado.sav', 'rb'))\n",
    "svm = pickle.load(open('svm_finalizado.sav', 'rb'))"
   ]
  },
  {
   "cell_type": "code",
   "execution_count": 3,
   "metadata": {},
   "outputs": [],
   "source": [
    "with open('credit.pkl', 'rb') as f:  \n",
    "  X_credit_treinamento, y_credit_treinamento, X_credit_teste, y_credit_teste = pickle.load(f)"
   ]
  },
  {
   "cell_type": "code",
   "execution_count": 4,
   "metadata": {},
   "outputs": [],
   "source": [
    "X_credit = np.concatenate((X_credit_treinamento, X_credit_teste), axis = 0)\n",
    "y_credit = np.concatenate((y_credit_treinamento, y_credit_teste), axis = 0)"
   ]
  },
  {
   "cell_type": "code",
   "execution_count": 10,
   "metadata": {},
   "outputs": [
    {
     "data": {
      "text/plain": [
       "array([0, 0, 0, ..., 0, 1, 1], dtype=int64)"
      ]
     },
     "execution_count": 10,
     "metadata": {},
     "output_type": "execute_result"
    }
   ],
   "source": [
    "y_credit"
   ]
  },
  {
   "attachments": {},
   "cell_type": "markdown",
   "metadata": {},
   "source": [
    "paga = npaga = 0\n",
    "new_clientes = []\n",
    "for i in range(2000):\n",
    "    novo_registro = X_credit[i]\n",
    "    novo_registro = novo_registro.reshape(1,-1)\n",
    "    novo_registro, novo_registro.shape\n",
    "    \n",
    "    resposta_rede_neural = rede_neural.predict(novo_registro)\n",
    "    resposta_arvore = arvore.predict(novo_registro)\n",
    "    resposta_svm = svm.predict(novo_registro)\n",
    "    if resposta_rede_neural == 1:\n",
    "        npaga += 1\n",
    "    else:\n",
    "        paga +=1\n",
    "    if resposta_arvore == 1:\n",
    "        npaga += 1\n",
    "    else:\n",
    "        paga += 1\n",
    "    if resposta_svm == 1:\n",
    "        npaga = 1\n",
    "    else:\n",
    "        paga = 1\n",
    "    if paga> npaga:\n",
    "        new_clientes.append(0)\n",
    "    else:\n",
    "        new_clientes.append(1)\n",
    "    npaga = paga = 0\n",
    "\n",
    "\n",
    "len(new_clientes)\n",
    "        \n",
    "\n",
    "from sklearn.metrics import accuracy_score, classification_report\n",
    "accuracy_score(y_credit, new_clientes)\n",
    "\n",
    "print(classification_report(y_credit, new_clientes))"
   ]
  },
  {
   "cell_type": "code",
   "execution_count": 19,
   "metadata": {},
   "outputs": [],
   "source": [
    "novo_registro = X_credit[0]\n",
    "novo_registro = novo_registro.reshape(1,-1)\n",
    "novo_registro, novo_registro.shape\n",
    "\n",
    "resposta_rede_neural = rede_neural.predict(novo_registro)\n",
    "resposta_arvore = arvore.predict(novo_registro)\n",
    "resposta_svm = svm.predict(novo_registro)"
   ]
  },
  {
   "cell_type": "code",
   "execution_count": 20,
   "metadata": {},
   "outputs": [
    {
     "data": {
      "text/plain": [
       "(0, 0, 0)"
      ]
     },
     "execution_count": 20,
     "metadata": {},
     "output_type": "execute_result"
    }
   ],
   "source": [
    "resposta_rede_neural[0], resposta_arvore[0], resposta_svm[0]"
   ]
  },
  {
   "cell_type": "code",
   "execution_count": 26,
   "metadata": {},
   "outputs": [],
   "source": [
    "probabilidade_rede_neural = rede_neural.predict_proba(novo_registro)\n",
    "probabilidade_arvore = arvore.predict_proba(novo_registro)\n",
    "probabilidade_svm = svm.predict_proba(novo_registro)"
   ]
  },
  {
   "cell_type": "code",
   "execution_count": 27,
   "metadata": {},
   "outputs": [
    {
     "data": {
      "text/plain": [
       "(array([[1.00000000e+00, 2.40054848e-15]]),\n",
       " array([[1., 0.]]),\n",
       " array([[9.99997379e-01, 2.62133040e-06]]))"
      ]
     },
     "execution_count": 27,
     "metadata": {},
     "output_type": "execute_result"
    }
   ],
   "source": [
    "probabilidade_rede_neural, probabilidade_arvore, probabilidade_svm"
   ]
  },
  {
   "cell_type": "code",
   "execution_count": 28,
   "metadata": {},
   "outputs": [],
   "source": [
    "confianca_rede_neural = probabilidade_rede_neural.max()\n",
    "confianca_arvore = probabilidade_arvore.max()\n",
    "confianca_svm = probabilidade_svm.max()"
   ]
  },
  {
   "cell_type": "code",
   "execution_count": 31,
   "metadata": {},
   "outputs": [
    {
     "data": {
      "text/plain": [
       "0.9999999999999976"
      ]
     },
     "execution_count": 31,
     "metadata": {},
     "output_type": "execute_result"
    }
   ],
   "source": [
    "confianca_rede_neural\n"
   ]
  },
  {
   "cell_type": "code",
   "execution_count": 32,
   "metadata": {},
   "outputs": [
    {
     "data": {
      "text/plain": [
       "1.0"
      ]
     },
     "execution_count": 32,
     "metadata": {},
     "output_type": "execute_result"
    }
   ],
   "source": [
    "confianca_arvore\n"
   ]
  },
  {
   "cell_type": "code",
   "execution_count": 33,
   "metadata": {},
   "outputs": [
    {
     "data": {
      "text/plain": [
       "0.9999973786695988"
      ]
     },
     "execution_count": 33,
     "metadata": {},
     "output_type": "execute_result"
    }
   ],
   "source": [
    "confianca_svm"
   ]
  },
  {
   "cell_type": "code",
   "execution_count": 34,
   "metadata": {},
   "outputs": [
    {
     "name": "stdout",
     "output_type": "stream",
     "text": [
      "Cliente vai pagar baseado em 2 algoritmos\n"
     ]
    }
   ],
   "source": [
    "npaga = paga = algoritmos = 0\n",
    "conf_minima = 0.999999\n",
    "if confianca_rede_neural >= conf_minima:\n",
    "    algoritmos += 1\n",
    "    if resposta_rede_neural == 1:\n",
    "            npaga += 1\n",
    "    else:\n",
    "        paga +=1\n",
    "\n",
    "if confianca_arvore >= conf_minima:\n",
    "    algoritmos += 1\n",
    "    if resposta_arvore == 1:\n",
    "        npaga += 1\n",
    "    else:\n",
    "        paga += 1\n",
    "\n",
    "if confianca_svm >= conf_minima:\n",
    "    algoritmos +=1\n",
    "    if resposta_svm == 1:\n",
    "        npaga = 1\n",
    "    else:\n",
    "        paga = 1\n",
    "if paga> npaga:\n",
    "    print(f'Cliente vai pagar baseado em {algoritmos} algoritmos')\n",
    "else:\n",
    "    print('Cliente não vai pagar o empréstimo')\n",
    "npaga = paga = 0"
   ]
  }
 ],
 "metadata": {
  "kernelspec": {
   "display_name": "base",
   "language": "python",
   "name": "python3"
  },
  "language_info": {
   "codemirror_mode": {
    "name": "ipython",
    "version": 3
   },
   "file_extension": ".py",
   "mimetype": "text/x-python",
   "name": "python",
   "nbconvert_exporter": "python",
   "pygments_lexer": "ipython3",
   "version": "3.9.15"
  },
  "orig_nbformat": 4,
  "vscode": {
   "interpreter": {
    "hash": "6a891b5f2f4d7418d5212aafd423d4fa8f20070c53d9b7258eecfb44c90b6a64"
   }
  }
 },
 "nbformat": 4,
 "nbformat_minor": 2
}

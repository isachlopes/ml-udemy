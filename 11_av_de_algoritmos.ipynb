{
 "cells": [
  {
   "cell_type": "code",
   "execution_count": 1,
   "id": "fcce118e-c31d-41bb-9e4d-15fbab3332a0",
   "metadata": {},
   "outputs": [],
   "source": [
    "from sklearn.model_selection import GridSearchCV\n",
    "from sklearn.tree import DecisionTreeClassifier\n",
    "from sklearn.ensemble import RandomForestClassifier\n",
    "from sklearn.neighbors import KNeighborsClassifier\n",
    "from sklearn.linear_model import LogisticRegression\n",
    "from sklearn.svm import SVC\n",
    "from sklearn.neural_network import MLPClassifier\n",
    "import numpy as np\n",
    "import pandas as pd\n",
    "import seaborn as sns\n",
    "import pickle"
   ]
  },
  {
   "cell_type": "code",
   "execution_count": 2,
   "id": "f453d057",
   "metadata": {},
   "outputs": [],
   "source": [
    "import pickle\n",
    "with open('credit.pkl', 'rb') as f:  \n",
    "  X_credit_treinamento, y_credit_treinamento, X_credit_teste, y_credit_teste = pickle.load(f)"
   ]
  },
  {
   "cell_type": "code",
   "execution_count": 3,
   "id": "244b2c68",
   "metadata": {},
   "outputs": [
    {
     "data": {
      "text/plain": [
       "((1500, 3), (1500,))"
      ]
     },
     "execution_count": 3,
     "metadata": {},
     "output_type": "execute_result"
    }
   ],
   "source": [
    "X_credit_treinamento.shape, y_credit_treinamento.shape"
   ]
  },
  {
   "cell_type": "code",
   "execution_count": 4,
   "id": "963d8a7a",
   "metadata": {},
   "outputs": [
    {
     "data": {
      "text/plain": [
       "((500, 3), (500,))"
      ]
     },
     "execution_count": 4,
     "metadata": {},
     "output_type": "execute_result"
    }
   ],
   "source": [
    "X_credit_teste.shape, y_credit_teste.shape"
   ]
  },
  {
   "cell_type": "code",
   "execution_count": 5,
   "id": "4ec714a1",
   "metadata": {},
   "outputs": [
    {
     "data": {
      "text/plain": [
       "(2000, 3)"
      ]
     },
     "execution_count": 5,
     "metadata": {},
     "output_type": "execute_result"
    }
   ],
   "source": [
    "X_credit = np.concatenate((X_credit_treinamento, X_credit_teste), axis = 0)\n",
    "X_credit.shape"
   ]
  },
  {
   "cell_type": "code",
   "execution_count": 6,
   "id": "d512a0ad",
   "metadata": {},
   "outputs": [
    {
     "data": {
      "text/plain": [
       "(2000,)"
      ]
     },
     "execution_count": 6,
     "metadata": {},
     "output_type": "execute_result"
    }
   ],
   "source": [
    "y_credit = np.concatenate((y_credit_treinamento, y_credit_teste), axis = 0)\n",
    "y_credit.shape"
   ]
  },
  {
   "cell_type": "markdown",
   "id": "c1d981ad",
   "metadata": {},
   "source": [
    "Decision tree\n"
   ]
  },
  {
   "cell_type": "code",
   "execution_count": 7,
   "id": "7b730b31",
   "metadata": {},
   "outputs": [],
   "source": [
    "parametros = {'criterion':['gini', 'entropy'],\n",
    "                'splitter': ['best', 'random'],\n",
    "                'min_samples_split': [2, 5, 10],\n",
    "                'min_samples_leaf': [1, 5, 10]}"
   ]
  },
  {
   "cell_type": "code",
   "execution_count": 8,
   "id": "2dee8990",
   "metadata": {},
   "outputs": [
    {
     "name": "stdout",
     "output_type": "stream",
     "text": [
      "{'criterion': 'entropy', 'min_samples_leaf': 1, 'min_samples_split': 5, 'splitter': 'best'}\n",
      "0.983\n"
     ]
    }
   ],
   "source": [
    "grid_searshcv = GridSearchCV(estimator=DecisionTreeClassifier(), param_grid=parametros)\n",
    "grid_searshcv.fit(X_credit, y_credit)\n",
    "melhoresparamentros = grid_searshcv.best_params_\n",
    "melhorresultado = grid_searshcv.best_score_\n",
    "print(melhoresparamentros)\n",
    "print(melhorresultado)\n",
    "\n"
   ]
  },
  {
   "cell_type": "markdown",
   "id": "550854de",
   "metadata": {},
   "source": [
    "Random forest"
   ]
  },
  {
   "cell_type": "code",
   "execution_count": 9,
   "id": "c8321415",
   "metadata": {},
   "outputs": [],
   "source": [
    "parametros = {'criterion': ['gini', 'entropy'],\n",
    "              'n_estimators': [10, 40, 100, 150],\n",
    "              'min_samples_split': [2, 5, 10],\n",
    "              'min_samples_leaf': [1, 5, 10]}"
   ]
  },
  {
   "cell_type": "code",
   "execution_count": 10,
   "id": "275d357b",
   "metadata": {},
   "outputs": [
    {
     "name": "stdout",
     "output_type": "stream",
     "text": [
      "{'criterion': 'entropy', 'min_samples_leaf': 1, 'min_samples_split': 5, 'n_estimators': 40}\n",
      "0.9855\n"
     ]
    }
   ],
   "source": [
    "grid_search = GridSearchCV(estimator=RandomForestClassifier(), param_grid=parametros)\n",
    "grid_search.fit(X_credit, y_credit)\n",
    "melhores_parametros = grid_search.best_params_\n",
    "melhor_resultado = grid_search.best_score_\n",
    "print(melhores_parametros)\n",
    "print(melhor_resultado)"
   ]
  },
  {
   "cell_type": "markdown",
   "id": "e9ec723a",
   "metadata": {},
   "source": [
    "Knn"
   ]
  },
  {
   "cell_type": "code",
   "execution_count": 11,
   "id": "14d001c9",
   "metadata": {},
   "outputs": [],
   "source": [
    "parametros = {'n_neighbors': [3, 5, 10, 20],\n",
    "              'p': [1, 2]}"
   ]
  },
  {
   "cell_type": "code",
   "execution_count": 12,
   "id": "2d1a802f",
   "metadata": {},
   "outputs": [
    {
     "name": "stdout",
     "output_type": "stream",
     "text": [
      "{'n_neighbors': 20, 'p': 1}\n",
      "0.9800000000000001\n"
     ]
    }
   ],
   "source": [
    "grid_search = GridSearchCV(estimator=KNeighborsClassifier(), param_grid=parametros)\n",
    "grid_search.fit(X_credit, y_credit)\n",
    "melhores_parametros = grid_search.best_params_\n",
    "melhor_resultado = grid_search.best_score_\n",
    "print(melhores_parametros)\n",
    "print(melhor_resultado)\n"
   ]
  },
  {
   "cell_type": "markdown",
   "id": "d2f6f66d",
   "metadata": {},
   "source": [
    "Regressão logistica"
   ]
  },
  {
   "cell_type": "code",
   "execution_count": 13,
   "id": "0ec78be2",
   "metadata": {},
   "outputs": [],
   "source": [
    "parametros = {'tol': [0.0001, 0.00001, 0.000001],\n",
    "              'C': [1.0, 1.5, 2.0],\n",
    "              'solver': ['lbfgs', 'sag', 'saga']}"
   ]
  },
  {
   "cell_type": "code",
   "execution_count": 14,
   "id": "be4184b9",
   "metadata": {},
   "outputs": [
    {
     "name": "stdout",
     "output_type": "stream",
     "text": [
      "{'C': 1.0, 'solver': 'lbfgs', 'tol': 0.0001}\n",
      "0.9484999999999999\n"
     ]
    }
   ],
   "source": [
    "grid_search = GridSearchCV(estimator=LogisticRegression(), param_grid=parametros)\n",
    "grid_search.fit(X_credit, y_credit)\n",
    "melhores_parametros = grid_search.best_params_\n",
    "melhor_resultado = grid_search.best_score_\n",
    "print(melhores_parametros)\n",
    "print(melhor_resultado)"
   ]
  },
  {
   "cell_type": "markdown",
   "id": "530f2a32",
   "metadata": {},
   "source": [
    "SVN"
   ]
  },
  {
   "cell_type": "code",
   "execution_count": 15,
   "id": "71ed8426",
   "metadata": {},
   "outputs": [],
   "source": [
    "parametros = {'tol': [0.001, 0.0001, 0.00001],\n",
    "              'C': [1.0, 1.5, 2.0],\n",
    "              'kernel': ['rbf', 'linear', 'poly', 'sigmoid']}"
   ]
  },
  {
   "cell_type": "code",
   "execution_count": 16,
   "id": "88be1e11",
   "metadata": {},
   "outputs": [
    {
     "name": "stdout",
     "output_type": "stream",
     "text": [
      "{'C': 1.5, 'kernel': 'rbf', 'tol': 0.001}\n",
      "0.9829999999999999\n"
     ]
    }
   ],
   "source": [
    "grid_search = GridSearchCV(estimator=SVC(), param_grid=parametros)\n",
    "grid_search.fit(X_credit, y_credit)\n",
    "melhores_parametros = grid_search.best_params_\n",
    "melhor_resultado = grid_search.best_score_\n",
    "print(melhores_parametros)\n",
    "print(melhor_resultado)"
   ]
  },
  {
   "cell_type": "markdown",
   "id": "2820c4ec",
   "metadata": {},
   "source": [
    "Rede neural"
   ]
  },
  {
   "cell_type": "code",
   "execution_count": 17,
   "id": "18b181d3",
   "metadata": {},
   "outputs": [],
   "source": [
    "parametros = {'activation': ['relu', 'logistic', 'tahn'],\n",
    "              'solver': ['adam', 'sgd'],\n",
    "              'batch_size': [10, 56]}"
   ]
  },
  {
   "cell_type": "code",
   "execution_count": null,
   "id": "23dd830e",
   "metadata": {},
   "outputs": [],
   "source": [
    "grid_search = GridSearchCV(estimator=MLPClassifier(), param_grid=parametros)\n",
    "grid_search.fit(X_credit, y_credit)\n",
    "melhores_parametros = grid_search.best_params_\n",
    "melhor_resultado = grid_search.best_score_"
   ]
  },
  {
   "cell_type": "code",
   "execution_count": 19,
   "id": "135d4e6c",
   "metadata": {},
   "outputs": [
    {
     "name": "stdout",
     "output_type": "stream",
     "text": [
      "{'activation': 'relu', 'batch_size': 10, 'solver': 'adam'}\n",
      "0.9964999999999999\n"
     ]
    }
   ],
   "source": [
    "print(melhores_parametros)\n",
    "print(melhor_resultado)"
   ]
  },
  {
   "attachments": {},
   "cell_type": "markdown",
   "id": "1a1c71cd",
   "metadata": {},
   "source": [
    "## implementação Validação cruzada"
   ]
  },
  {
   "cell_type": "code",
   "execution_count": 20,
   "id": "e3fc42fe",
   "metadata": {},
   "outputs": [],
   "source": [
    "from sklearn.model_selection import cross_val_score, KFold"
   ]
  },
  {
   "cell_type": "code",
   "execution_count": null,
   "id": "72b6f503",
   "metadata": {},
   "outputs": [],
   "source": [
    "resultados_arvore = []\n",
    "resultados_random_forest = []\n",
    "resultados_knn = []\n",
    "resultados_logistica = []\n",
    "resultados_svm = []\n",
    "resultados_rede_neural = []\n",
    "\n",
    "for i in range(30):\n",
    "  print(i)\n",
    "  kfold = KFold(n_splits=10, shuffle=True, random_state=i)\n",
    "\n",
    "  arvore = DecisionTreeClassifier(criterion='entropy', min_samples_leaf=1, min_samples_split=5, splitter='best')\n",
    "  scores = cross_val_score(arvore, X_credit, y_credit, cv = kfold)\n",
    "  #print(scores)\n",
    "  #print(scores.mean())\n",
    "  resultados_arvore.append(scores.mean())\n",
    "\n",
    "  random_forest = RandomForestClassifier(criterion = 'entropy', min_samples_leaf = 1, min_samples_split=5, n_estimators = 10)\n",
    "  scores = cross_val_score(random_forest, X_credit, y_credit, cv = kfold)\n",
    "  resultados_random_forest.append(scores.mean())\n",
    "\n",
    "  knn = KNeighborsClassifier()\n",
    "  scores = cross_val_score(knn, X_credit, y_credit, cv = kfold)\n",
    "  resultados_knn.append(scores.mean())\n",
    "\n",
    "  logistica = LogisticRegression(C = 1.0, solver = 'lbfgs', tol = 0.0001)\n",
    "  scores = cross_val_score(logistica, X_credit, y_credit, cv = kfold)\n",
    "  resultados_logistica.append(scores.mean())\n",
    "\n",
    "  svm = SVC(kernel = 'rbf', C = 2.0)\n",
    "  scores = cross_val_score(svm, X_credit, y_credit, cv = kfold)\n",
    "  resultados_svm.append(scores.mean())\n",
    "\n",
    "  rede_neural = MLPClassifier(activation = 'relu', batch_size = 56, solver = 'adam')\n",
    "  scores = cross_val_score(rede_neural, X_credit, y_credit, cv = kfold)\n",
    "  resultados_rede_neural.append(scores.mean())"
   ]
  },
  {
   "cell_type": "code",
   "execution_count": 22,
   "id": "4a4cdb51",
   "metadata": {},
   "outputs": [
    {
     "data": {
      "text/plain": [
       "[0.9979999999999999,\n",
       " 0.9984999999999999,\n",
       " 0.9974999999999999,\n",
       " 0.9969999999999999,\n",
       " 0.9964999999999999,\n",
       " 0.9975000000000002,\n",
       " 0.9964999999999999,\n",
       " 0.9970000000000001,\n",
       " 0.9955,\n",
       " 0.9975000000000002,\n",
       " 0.9970000000000001,\n",
       " 0.9964999999999999,\n",
       " 0.9969999999999999,\n",
       " 0.9974999999999999,\n",
       " 0.9965000000000002,\n",
       " 0.998,\n",
       " 0.9964999999999999,\n",
       " 0.9970000000000001,\n",
       " 0.998,\n",
       " 0.9969999999999999,\n",
       " 0.9970000000000001,\n",
       " 0.998,\n",
       " 0.9974999999999999,\n",
       " 0.9974999999999999,\n",
       " 0.9974999999999999,\n",
       " 0.9959999999999999,\n",
       " 0.9964999999999999,\n",
       " 0.9970000000000001,\n",
       " 0.9970000000000001,\n",
       " 0.9970000000000001]"
      ]
     },
     "execution_count": 22,
     "metadata": {},
     "output_type": "execute_result"
    }
   ],
   "source": [
    "resultados_rede_neural"
   ]
  },
  {
   "cell_type": "code",
   "execution_count": 23,
   "id": "5f21fcbd",
   "metadata": {},
   "outputs": [
    {
     "data": {
      "text/html": [
       "<div>\n",
       "<style scoped>\n",
       "    .dataframe tbody tr th:only-of-type {\n",
       "        vertical-align: middle;\n",
       "    }\n",
       "\n",
       "    .dataframe tbody tr th {\n",
       "        vertical-align: top;\n",
       "    }\n",
       "\n",
       "    .dataframe thead th {\n",
       "        text-align: right;\n",
       "    }\n",
       "</style>\n",
       "<table border=\"1\" class=\"dataframe\">\n",
       "  <thead>\n",
       "    <tr style=\"text-align: right;\">\n",
       "      <th></th>\n",
       "      <th>Arvore</th>\n",
       "      <th>Random forest</th>\n",
       "      <th>KNN</th>\n",
       "      <th>Logistica</th>\n",
       "      <th>SVM</th>\n",
       "      <th>Rede neural</th>\n",
       "    </tr>\n",
       "  </thead>\n",
       "  <tbody>\n",
       "    <tr>\n",
       "      <th>0</th>\n",
       "      <td>0.9870</td>\n",
       "      <td>0.9840</td>\n",
       "      <td>0.9815</td>\n",
       "      <td>0.9475</td>\n",
       "      <td>0.9845</td>\n",
       "      <td>0.9980</td>\n",
       "    </tr>\n",
       "    <tr>\n",
       "      <th>1</th>\n",
       "      <td>0.9855</td>\n",
       "      <td>0.9845</td>\n",
       "      <td>0.9800</td>\n",
       "      <td>0.9465</td>\n",
       "      <td>0.9840</td>\n",
       "      <td>0.9985</td>\n",
       "    </tr>\n",
       "    <tr>\n",
       "      <th>2</th>\n",
       "      <td>0.9905</td>\n",
       "      <td>0.9785</td>\n",
       "      <td>0.9795</td>\n",
       "      <td>0.9470</td>\n",
       "      <td>0.9865</td>\n",
       "      <td>0.9975</td>\n",
       "    </tr>\n",
       "    <tr>\n",
       "      <th>3</th>\n",
       "      <td>0.9870</td>\n",
       "      <td>0.9825</td>\n",
       "      <td>0.9780</td>\n",
       "      <td>0.9460</td>\n",
       "      <td>0.9850</td>\n",
       "      <td>0.9970</td>\n",
       "    </tr>\n",
       "    <tr>\n",
       "      <th>4</th>\n",
       "      <td>0.9890</td>\n",
       "      <td>0.9830</td>\n",
       "      <td>0.9820</td>\n",
       "      <td>0.9465</td>\n",
       "      <td>0.9850</td>\n",
       "      <td>0.9965</td>\n",
       "    </tr>\n",
       "    <tr>\n",
       "      <th>5</th>\n",
       "      <td>0.9885</td>\n",
       "      <td>0.9870</td>\n",
       "      <td>0.9780</td>\n",
       "      <td>0.9465</td>\n",
       "      <td>0.9845</td>\n",
       "      <td>0.9975</td>\n",
       "    </tr>\n",
       "    <tr>\n",
       "      <th>6</th>\n",
       "      <td>0.9885</td>\n",
       "      <td>0.9890</td>\n",
       "      <td>0.9805</td>\n",
       "      <td>0.9470</td>\n",
       "      <td>0.9860</td>\n",
       "      <td>0.9965</td>\n",
       "    </tr>\n",
       "    <tr>\n",
       "      <th>7</th>\n",
       "      <td>0.9875</td>\n",
       "      <td>0.9835</td>\n",
       "      <td>0.9800</td>\n",
       "      <td>0.9480</td>\n",
       "      <td>0.9850</td>\n",
       "      <td>0.9970</td>\n",
       "    </tr>\n",
       "    <tr>\n",
       "      <th>8</th>\n",
       "      <td>0.9870</td>\n",
       "      <td>0.9840</td>\n",
       "      <td>0.9795</td>\n",
       "      <td>0.9465</td>\n",
       "      <td>0.9840</td>\n",
       "      <td>0.9955</td>\n",
       "    </tr>\n",
       "    <tr>\n",
       "      <th>9</th>\n",
       "      <td>0.9870</td>\n",
       "      <td>0.9840</td>\n",
       "      <td>0.9820</td>\n",
       "      <td>0.9465</td>\n",
       "      <td>0.9845</td>\n",
       "      <td>0.9975</td>\n",
       "    </tr>\n",
       "    <tr>\n",
       "      <th>10</th>\n",
       "      <td>0.9860</td>\n",
       "      <td>0.9855</td>\n",
       "      <td>0.9795</td>\n",
       "      <td>0.9475</td>\n",
       "      <td>0.9840</td>\n",
       "      <td>0.9970</td>\n",
       "    </tr>\n",
       "    <tr>\n",
       "      <th>11</th>\n",
       "      <td>0.9900</td>\n",
       "      <td>0.9845</td>\n",
       "      <td>0.9825</td>\n",
       "      <td>0.9480</td>\n",
       "      <td>0.9845</td>\n",
       "      <td>0.9965</td>\n",
       "    </tr>\n",
       "    <tr>\n",
       "      <th>12</th>\n",
       "      <td>0.9885</td>\n",
       "      <td>0.9810</td>\n",
       "      <td>0.9825</td>\n",
       "      <td>0.9475</td>\n",
       "      <td>0.9855</td>\n",
       "      <td>0.9970</td>\n",
       "    </tr>\n",
       "    <tr>\n",
       "      <th>13</th>\n",
       "      <td>0.9870</td>\n",
       "      <td>0.9850</td>\n",
       "      <td>0.9780</td>\n",
       "      <td>0.9475</td>\n",
       "      <td>0.9855</td>\n",
       "      <td>0.9975</td>\n",
       "    </tr>\n",
       "    <tr>\n",
       "      <th>14</th>\n",
       "      <td>0.9845</td>\n",
       "      <td>0.9840</td>\n",
       "      <td>0.9810</td>\n",
       "      <td>0.9485</td>\n",
       "      <td>0.9830</td>\n",
       "      <td>0.9965</td>\n",
       "    </tr>\n",
       "    <tr>\n",
       "      <th>15</th>\n",
       "      <td>0.9855</td>\n",
       "      <td>0.9860</td>\n",
       "      <td>0.9790</td>\n",
       "      <td>0.9475</td>\n",
       "      <td>0.9865</td>\n",
       "      <td>0.9980</td>\n",
       "    </tr>\n",
       "    <tr>\n",
       "      <th>16</th>\n",
       "      <td>0.9855</td>\n",
       "      <td>0.9800</td>\n",
       "      <td>0.9810</td>\n",
       "      <td>0.9460</td>\n",
       "      <td>0.9860</td>\n",
       "      <td>0.9965</td>\n",
       "    </tr>\n",
       "    <tr>\n",
       "      <th>17</th>\n",
       "      <td>0.9905</td>\n",
       "      <td>0.9835</td>\n",
       "      <td>0.9800</td>\n",
       "      <td>0.9470</td>\n",
       "      <td>0.9865</td>\n",
       "      <td>0.9970</td>\n",
       "    </tr>\n",
       "    <tr>\n",
       "      <th>18</th>\n",
       "      <td>0.9875</td>\n",
       "      <td>0.9830</td>\n",
       "      <td>0.9805</td>\n",
       "      <td>0.9465</td>\n",
       "      <td>0.9850</td>\n",
       "      <td>0.9980</td>\n",
       "    </tr>\n",
       "    <tr>\n",
       "      <th>19</th>\n",
       "      <td>0.9870</td>\n",
       "      <td>0.9840</td>\n",
       "      <td>0.9795</td>\n",
       "      <td>0.9465</td>\n",
       "      <td>0.9845</td>\n",
       "      <td>0.9970</td>\n",
       "    </tr>\n",
       "    <tr>\n",
       "      <th>20</th>\n",
       "      <td>0.9840</td>\n",
       "      <td>0.9825</td>\n",
       "      <td>0.9820</td>\n",
       "      <td>0.9465</td>\n",
       "      <td>0.9840</td>\n",
       "      <td>0.9970</td>\n",
       "    </tr>\n",
       "    <tr>\n",
       "      <th>21</th>\n",
       "      <td>0.9870</td>\n",
       "      <td>0.9845</td>\n",
       "      <td>0.9825</td>\n",
       "      <td>0.9470</td>\n",
       "      <td>0.9850</td>\n",
       "      <td>0.9980</td>\n",
       "    </tr>\n",
       "    <tr>\n",
       "      <th>22</th>\n",
       "      <td>0.9890</td>\n",
       "      <td>0.9875</td>\n",
       "      <td>0.9780</td>\n",
       "      <td>0.9455</td>\n",
       "      <td>0.9865</td>\n",
       "      <td>0.9975</td>\n",
       "    </tr>\n",
       "    <tr>\n",
       "      <th>23</th>\n",
       "      <td>0.9870</td>\n",
       "      <td>0.9860</td>\n",
       "      <td>0.9810</td>\n",
       "      <td>0.9465</td>\n",
       "      <td>0.9875</td>\n",
       "      <td>0.9975</td>\n",
       "    </tr>\n",
       "    <tr>\n",
       "      <th>24</th>\n",
       "      <td>0.9880</td>\n",
       "      <td>0.9835</td>\n",
       "      <td>0.9795</td>\n",
       "      <td>0.9470</td>\n",
       "      <td>0.9870</td>\n",
       "      <td>0.9975</td>\n",
       "    </tr>\n",
       "    <tr>\n",
       "      <th>25</th>\n",
       "      <td>0.9880</td>\n",
       "      <td>0.9865</td>\n",
       "      <td>0.9790</td>\n",
       "      <td>0.9470</td>\n",
       "      <td>0.9820</td>\n",
       "      <td>0.9960</td>\n",
       "    </tr>\n",
       "    <tr>\n",
       "      <th>26</th>\n",
       "      <td>0.9875</td>\n",
       "      <td>0.9820</td>\n",
       "      <td>0.9770</td>\n",
       "      <td>0.9475</td>\n",
       "      <td>0.9840</td>\n",
       "      <td>0.9965</td>\n",
       "    </tr>\n",
       "    <tr>\n",
       "      <th>27</th>\n",
       "      <td>0.9855</td>\n",
       "      <td>0.9790</td>\n",
       "      <td>0.9785</td>\n",
       "      <td>0.9465</td>\n",
       "      <td>0.9865</td>\n",
       "      <td>0.9970</td>\n",
       "    </tr>\n",
       "    <tr>\n",
       "      <th>28</th>\n",
       "      <td>0.9860</td>\n",
       "      <td>0.9845</td>\n",
       "      <td>0.9790</td>\n",
       "      <td>0.9480</td>\n",
       "      <td>0.9835</td>\n",
       "      <td>0.9970</td>\n",
       "    </tr>\n",
       "    <tr>\n",
       "      <th>29</th>\n",
       "      <td>0.9885</td>\n",
       "      <td>0.9830</td>\n",
       "      <td>0.9805</td>\n",
       "      <td>0.9465</td>\n",
       "      <td>0.9865</td>\n",
       "      <td>0.9970</td>\n",
       "    </tr>\n",
       "  </tbody>\n",
       "</table>\n",
       "</div>"
      ],
      "text/plain": [
       "    Arvore  Random forest     KNN  Logistica     SVM  Rede neural\n",
       "0   0.9870         0.9840  0.9815     0.9475  0.9845       0.9980\n",
       "1   0.9855         0.9845  0.9800     0.9465  0.9840       0.9985\n",
       "2   0.9905         0.9785  0.9795     0.9470  0.9865       0.9975\n",
       "3   0.9870         0.9825  0.9780     0.9460  0.9850       0.9970\n",
       "4   0.9890         0.9830  0.9820     0.9465  0.9850       0.9965\n",
       "5   0.9885         0.9870  0.9780     0.9465  0.9845       0.9975\n",
       "6   0.9885         0.9890  0.9805     0.9470  0.9860       0.9965\n",
       "7   0.9875         0.9835  0.9800     0.9480  0.9850       0.9970\n",
       "8   0.9870         0.9840  0.9795     0.9465  0.9840       0.9955\n",
       "9   0.9870         0.9840  0.9820     0.9465  0.9845       0.9975\n",
       "10  0.9860         0.9855  0.9795     0.9475  0.9840       0.9970\n",
       "11  0.9900         0.9845  0.9825     0.9480  0.9845       0.9965\n",
       "12  0.9885         0.9810  0.9825     0.9475  0.9855       0.9970\n",
       "13  0.9870         0.9850  0.9780     0.9475  0.9855       0.9975\n",
       "14  0.9845         0.9840  0.9810     0.9485  0.9830       0.9965\n",
       "15  0.9855         0.9860  0.9790     0.9475  0.9865       0.9980\n",
       "16  0.9855         0.9800  0.9810     0.9460  0.9860       0.9965\n",
       "17  0.9905         0.9835  0.9800     0.9470  0.9865       0.9970\n",
       "18  0.9875         0.9830  0.9805     0.9465  0.9850       0.9980\n",
       "19  0.9870         0.9840  0.9795     0.9465  0.9845       0.9970\n",
       "20  0.9840         0.9825  0.9820     0.9465  0.9840       0.9970\n",
       "21  0.9870         0.9845  0.9825     0.9470  0.9850       0.9980\n",
       "22  0.9890         0.9875  0.9780     0.9455  0.9865       0.9975\n",
       "23  0.9870         0.9860  0.9810     0.9465  0.9875       0.9975\n",
       "24  0.9880         0.9835  0.9795     0.9470  0.9870       0.9975\n",
       "25  0.9880         0.9865  0.9790     0.9470  0.9820       0.9960\n",
       "26  0.9875         0.9820  0.9770     0.9475  0.9840       0.9965\n",
       "27  0.9855         0.9790  0.9785     0.9465  0.9865       0.9970\n",
       "28  0.9860         0.9845  0.9790     0.9480  0.9835       0.9970\n",
       "29  0.9885         0.9830  0.9805     0.9465  0.9865       0.9970"
      ]
     },
     "execution_count": 23,
     "metadata": {},
     "output_type": "execute_result"
    }
   ],
   "source": [
    "resultados = pd.DataFrame({'Arvore': resultados_arvore,\n",
    "                           'Random forest': resultados_random_forest,\n",
    "                           'KNN': resultados_knn,\n",
    "                           'Logistica': resultados_logistica,\n",
    "                           'SVM': resultados_svm,\n",
    "                           'Rede neural': resultados_rede_neural})\n",
    "resultados"
   ]
  },
  {
   "cell_type": "code",
   "execution_count": 24,
   "id": "0843b85a",
   "metadata": {},
   "outputs": [
    {
     "data": {
      "text/html": [
       "<div>\n",
       "<style scoped>\n",
       "    .dataframe tbody tr th:only-of-type {\n",
       "        vertical-align: middle;\n",
       "    }\n",
       "\n",
       "    .dataframe tbody tr th {\n",
       "        vertical-align: top;\n",
       "    }\n",
       "\n",
       "    .dataframe thead th {\n",
       "        text-align: right;\n",
       "    }\n",
       "</style>\n",
       "<table border=\"1\" class=\"dataframe\">\n",
       "  <thead>\n",
       "    <tr style=\"text-align: right;\">\n",
       "      <th></th>\n",
       "      <th>Arvore</th>\n",
       "      <th>Random forest</th>\n",
       "      <th>KNN</th>\n",
       "      <th>Logistica</th>\n",
       "      <th>SVM</th>\n",
       "      <th>Rede neural</th>\n",
       "    </tr>\n",
       "  </thead>\n",
       "  <tbody>\n",
       "    <tr>\n",
       "      <th>count</th>\n",
       "      <td>30.000000</td>\n",
       "      <td>30.000000</td>\n",
       "      <td>30.000000</td>\n",
       "      <td>30.000000</td>\n",
       "      <td>30.000000</td>\n",
       "      <td>30.000000</td>\n",
       "    </tr>\n",
       "    <tr>\n",
       "      <th>mean</th>\n",
       "      <td>0.987333</td>\n",
       "      <td>0.983850</td>\n",
       "      <td>0.980050</td>\n",
       "      <td>0.946950</td>\n",
       "      <td>0.985083</td>\n",
       "      <td>0.997117</td>\n",
       "    </tr>\n",
       "    <tr>\n",
       "      <th>std</th>\n",
       "      <td>0.001621</td>\n",
       "      <td>0.002324</td>\n",
       "      <td>0.001533</td>\n",
       "      <td>0.000687</td>\n",
       "      <td>0.001280</td>\n",
       "      <td>0.000652</td>\n",
       "    </tr>\n",
       "    <tr>\n",
       "      <th>min</th>\n",
       "      <td>0.984000</td>\n",
       "      <td>0.978500</td>\n",
       "      <td>0.977000</td>\n",
       "      <td>0.945500</td>\n",
       "      <td>0.982000</td>\n",
       "      <td>0.995500</td>\n",
       "    </tr>\n",
       "    <tr>\n",
       "      <th>25%</th>\n",
       "      <td>0.986250</td>\n",
       "      <td>0.983000</td>\n",
       "      <td>0.979000</td>\n",
       "      <td>0.946500</td>\n",
       "      <td>0.984125</td>\n",
       "      <td>0.996625</td>\n",
       "    </tr>\n",
       "    <tr>\n",
       "      <th>50%</th>\n",
       "      <td>0.987000</td>\n",
       "      <td>0.984000</td>\n",
       "      <td>0.980000</td>\n",
       "      <td>0.947000</td>\n",
       "      <td>0.985000</td>\n",
       "      <td>0.997000</td>\n",
       "    </tr>\n",
       "    <tr>\n",
       "      <th>75%</th>\n",
       "      <td>0.988500</td>\n",
       "      <td>0.984875</td>\n",
       "      <td>0.981000</td>\n",
       "      <td>0.947500</td>\n",
       "      <td>0.986375</td>\n",
       "      <td>0.997500</td>\n",
       "    </tr>\n",
       "    <tr>\n",
       "      <th>max</th>\n",
       "      <td>0.990500</td>\n",
       "      <td>0.989000</td>\n",
       "      <td>0.982500</td>\n",
       "      <td>0.948500</td>\n",
       "      <td>0.987500</td>\n",
       "      <td>0.998500</td>\n",
       "    </tr>\n",
       "  </tbody>\n",
       "</table>\n",
       "</div>"
      ],
      "text/plain": [
       "          Arvore  Random forest        KNN  Logistica        SVM  Rede neural\n",
       "count  30.000000      30.000000  30.000000  30.000000  30.000000    30.000000\n",
       "mean    0.987333       0.983850   0.980050   0.946950   0.985083     0.997117\n",
       "std     0.001621       0.002324   0.001533   0.000687   0.001280     0.000652\n",
       "min     0.984000       0.978500   0.977000   0.945500   0.982000     0.995500\n",
       "25%     0.986250       0.983000   0.979000   0.946500   0.984125     0.996625\n",
       "50%     0.987000       0.984000   0.980000   0.947000   0.985000     0.997000\n",
       "75%     0.988500       0.984875   0.981000   0.947500   0.986375     0.997500\n",
       "max     0.990500       0.989000   0.982500   0.948500   0.987500     0.998500"
      ]
     },
     "execution_count": 24,
     "metadata": {},
     "output_type": "execute_result"
    }
   ],
   "source": [
    "resultados.describe()"
   ]
  },
  {
   "cell_type": "code",
   "execution_count": 25,
   "id": "6fa8752d",
   "metadata": {},
   "outputs": [
    {
     "data": {
      "text/plain": [
       "Arvore           0.164142\n",
       "Random forest    0.236175\n",
       "KNN              0.156446\n",
       "Logistica        0.072517\n",
       "SVM              0.129977\n",
       "Rede neural      0.065425\n",
       "dtype: float64"
      ]
     },
     "execution_count": 25,
     "metadata": {},
     "output_type": "execute_result"
    }
   ],
   "source": [
    "(resultados.std() / resultados.mean()) * 100"
   ]
  },
  {
   "attachments": {},
   "cell_type": "markdown",
   "id": "86b49d5b",
   "metadata": {},
   "source": [
    "### Teste de normalidade nos resultados"
   ]
  },
  {
   "cell_type": "code",
   "execution_count": 26,
   "id": "5f48fa41",
   "metadata": {},
   "outputs": [],
   "source": [
    "from scipy.stats import shapiro\n",
    "alpha = 0.05\n"
   ]
  },
  {
   "cell_type": "code",
   "execution_count": 27,
   "id": "85c5d8ae",
   "metadata": {},
   "outputs": [
    {
     "name": "stdout",
     "output_type": "stream",
     "text": [
      "ShapiroResult(statistic=0.967652440071106, pvalue=0.4771011769771576) ShapiroResult(statistic=0.9674116373062134, pvalue=0.47099772095680237) ShapiroResult(statistic=0.9584025144577026, pvalue=0.28181397914886475) ShapiroResult(statistic=0.9370949268341064, pvalue=0.07598038017749786) ShapiroResult(statistic=0.9622980356216431, pvalue=0.354146808385849) ShapiroResult(statistic=0.9489900469779968, pvalue=0.1588405817747116)\n"
     ]
    }
   ],
   "source": [
    "print(shapiro(resultados_arvore),\n",
    "shapiro(resultados_random_forest),\n",
    "shapiro(resultados_knn),\n",
    "shapiro(resultados_logistica),\n",
    "shapiro(resultados_svm),\n",
    "shapiro(resultados_rede_neural))"
   ]
  },
  {
   "cell_type": "code",
   "execution_count": 28,
   "id": "fc119b64",
   "metadata": {},
   "outputs": [
    {
     "data": {
      "text/plain": [
       "<seaborn.axisgrid.FacetGrid at 0x24bf6a47fa0>"
      ]
     },
     "execution_count": 28,
     "metadata": {},
     "output_type": "execute_result"
    },
    {
     "data": {
      "image/png": "[encoded data removed]",
      "text/plain": [
       "<Figure size 500x500 with 1 Axes>"
      ]
     },
     "metadata": {},
     "output_type": "display_data"
    }
   ],
   "source": [
    "sns.displot(resultados_arvore, kind='kde')"
   ]
  },
  {
   "cell_type": "code",
   "execution_count": 29,
   "id": "f56fe26a",
   "metadata": {},
   "outputs": [
    {
     "data": {
      "image/png": "[encoded data removed]",
      "text/plain": [
       "<Figure size 500x500 with 1 Axes>"
      ]
     },
     "metadata": {},
     "output_type": "display_data"
    }
   ],
   "source": [
    "sns.displot(resultados_random_forest, kind = 'kde');\n"
   ]
  },
  {
   "cell_type": "code",
   "execution_count": 30,
   "id": "bfade2a0",
   "metadata": {},
   "outputs": [
    {
     "data": {
      "image/png": "[encoded data removed]",
      "text/plain": [
       "<Figure size 500x500 with 1 Axes>"
      ]
     },
     "metadata": {},
     "output_type": "display_data"
    }
   ],
   "source": [
    "sns.displot(resultados_knn, kind = 'kde');"
   ]
  },
  {
   "cell_type": "code",
   "execution_count": 31,
   "id": "12b48c33",
   "metadata": {},
   "outputs": [
    {
     "data": {
      "image/png": "[encoded data removed]",
      "text/plain": [
       "<Figure size 500x500 with 1 Axes>"
      ]
     },
     "metadata": {},
     "output_type": "display_data"
    }
   ],
   "source": [
    "sns.displot(resultados_logistica, kind = 'kde');"
   ]
  },
  {
   "cell_type": "code",
   "execution_count": 32,
   "id": "5959fdf1",
   "metadata": {},
   "outputs": [
    {
     "data": {
      "image/png": "[encoded data removed]",
      "text/plain": [
       "<Figure size 500x500 with 1 Axes>"
      ]
     },
     "metadata": {},
     "output_type": "display_data"
    }
   ],
   "source": [
    "sns.displot(resultados_svm, kind = 'kde');"
   ]
  },
  {
   "cell_type": "code",
   "execution_count": 33,
   "id": "4dcc7186",
   "metadata": {},
   "outputs": [
    {
     "data": {
      "image/png": "[encoded data removed]",
      "text/plain": [
       "<Figure size 500x500 with 1 Axes>"
      ]
     },
     "metadata": {},
     "output_type": "display_data"
    }
   ],
   "source": [
    "sns.displot(resultados_rede_neural, kind = 'kde');"
   ]
  },
  {
   "cell_type": "markdown",
   "id": "c135bd83",
   "metadata": {},
   "source": [
    "## Melhor algoritmo com ANOVA e Tukey"
   ]
  },
  {
   "cell_type": "code",
   "execution_count": 34,
   "id": "fe4fbb86",
   "metadata": {},
   "outputs": [],
   "source": [
    "from scipy.stats import f_oneway"
   ]
  },
  {
   "cell_type": "code",
   "execution_count": 35,
   "id": "a061c597",
   "metadata": {},
   "outputs": [
    {
     "data": {
      "text/plain": [
       "1.1097255440005502e-178"
      ]
     },
     "execution_count": 35,
     "metadata": {},
     "output_type": "execute_result"
    }
   ],
   "source": [
    "_, p = f_oneway(resultados_arvore, resultados_random_forest, resultados_knn, resultados_logistica, resultados_svm, resultados_rede_neural)\n",
    "p"
   ]
  },
  {
   "cell_type": "code",
   "execution_count": 36,
   "id": "78f87180",
   "metadata": {},
   "outputs": [
    {
     "name": "stdout",
     "output_type": "stream",
     "text": [
      "Hipótese nula rejeitada. Dados são diferentes\n"
     ]
    }
   ],
   "source": [
    "alpha = 0.05\n",
    "if p <= alpha:\n",
    "  print('Hipótese nula rejeitada. Dados são diferentes')\n",
    "else:\n",
    "  print('Hipótese alternativa rejeitada. Resultados são iguais')"
   ]
  },
  {
   "cell_type": "code",
   "execution_count": 37,
   "id": "c227bdaa",
   "metadata": {},
   "outputs": [],
   "source": [
    "resultados_algoritmos = {'accuracy': np.concatenate([resultados_arvore, resultados_random_forest, resultados_knn, resultados_logistica, resultados_svm, resultados_rede_neural]),\n",
    "                         'algoritmo': ['arvore','arvore','arvore','arvore','arvore','arvore','arvore','arvore','arvore','arvore','arvore','arvore','arvore','arvore','arvore','arvore','arvore','arvore','arvore','arvore','arvore','arvore','arvore','arvore','arvore','arvore','arvore','arvore','arvore','arvore', \n",
    "                          'random_forest','random_forest','random_forest','random_forest','random_forest','random_forest','random_forest','random_forest','random_forest','random_forest','random_forest','random_forest','random_forest','random_forest','random_forest','random_forest','random_forest','random_forest','random_forest','random_forest','random_forest','random_forest','random_forest','random_forest','random_forest','random_forest','random_forest','random_forest','random_forest','random_forest', \n",
    "                          'knn','knn','knn','knn','knn','knn','knn','knn','knn','knn','knn','knn','knn','knn','knn','knn','knn','knn','knn','knn','knn','knn','knn','knn','knn','knn','knn','knn','knn','knn', \n",
    "                          'logistica','logistica','logistica','logistica','logistica','logistica','logistica','logistica','logistica','logistica','logistica','logistica','logistica','logistica','logistica','logistica','logistica','logistica','logistica','logistica','logistica','logistica','logistica','logistica','logistica','logistica','logistica','logistica','logistica','logistica',\n",
    "                          'svm','svm','svm','svm','svm','svm','svm','svm','svm','svm','svm','svm','svm','svm','svm','svm','svm','svm','svm','svm','svm','svm','svm','svm','svm','svm','svm','svm','svm','svm',\n",
    "                          'rede_neural','rede_neural','rede_neural','rede_neural','rede_neural','rede_neural','rede_neural','rede_neural','rede_neural','rede_neural','rede_neural','rede_neural','rede_neural','rede_neural','rede_neural','rede_neural','rede_neural','rede_neural','rede_neural','rede_neural','rede_neural','rede_neural','rede_neural','rede_neural','rede_neural','rede_neural','rede_neural','rede_neural','rede_neural','rede_neural']}"
   ]
  },
  {
   "cell_type": "code",
   "execution_count": 38,
   "id": "2c022b67",
   "metadata": {},
   "outputs": [
    {
     "data": {
      "text/html": [
       "<div>\n",
       "<style scoped>\n",
       "    .dataframe tbody tr th:only-of-type {\n",
       "        vertical-align: middle;\n",
       "    }\n",
       "\n",
       "    .dataframe tbody tr th {\n",
       "        vertical-align: top;\n",
       "    }\n",
       "\n",
       "    .dataframe thead th {\n",
       "        text-align: right;\n",
       "    }\n",
       "</style>\n",
       "<table border=\"1\" class=\"dataframe\">\n",
       "  <thead>\n",
       "    <tr style=\"text-align: right;\">\n",
       "      <th></th>\n",
       "      <th>accuracy</th>\n",
       "      <th>algoritmo</th>\n",
       "    </tr>\n",
       "  </thead>\n",
       "  <tbody>\n",
       "    <tr>\n",
       "      <th>0</th>\n",
       "      <td>0.9870</td>\n",
       "      <td>arvore</td>\n",
       "    </tr>\n",
       "    <tr>\n",
       "      <th>1</th>\n",
       "      <td>0.9855</td>\n",
       "      <td>arvore</td>\n",
       "    </tr>\n",
       "    <tr>\n",
       "      <th>2</th>\n",
       "      <td>0.9905</td>\n",
       "      <td>arvore</td>\n",
       "    </tr>\n",
       "    <tr>\n",
       "      <th>3</th>\n",
       "      <td>0.9870</td>\n",
       "      <td>arvore</td>\n",
       "    </tr>\n",
       "    <tr>\n",
       "      <th>4</th>\n",
       "      <td>0.9890</td>\n",
       "      <td>arvore</td>\n",
       "    </tr>\n",
       "    <tr>\n",
       "      <th>...</th>\n",
       "      <td>...</td>\n",
       "      <td>...</td>\n",
       "    </tr>\n",
       "    <tr>\n",
       "      <th>175</th>\n",
       "      <td>0.9960</td>\n",
       "      <td>rede_neural</td>\n",
       "    </tr>\n",
       "    <tr>\n",
       "      <th>176</th>\n",
       "      <td>0.9965</td>\n",
       "      <td>rede_neural</td>\n",
       "    </tr>\n",
       "    <tr>\n",
       "      <th>177</th>\n",
       "      <td>0.9970</td>\n",
       "      <td>rede_neural</td>\n",
       "    </tr>\n",
       "    <tr>\n",
       "      <th>178</th>\n",
       "      <td>0.9970</td>\n",
       "      <td>rede_neural</td>\n",
       "    </tr>\n",
       "    <tr>\n",
       "      <th>179</th>\n",
       "      <td>0.9970</td>\n",
       "      <td>rede_neural</td>\n",
       "    </tr>\n",
       "  </tbody>\n",
       "</table>\n",
       "<p>180 rows × 2 columns</p>\n",
       "</div>"
      ],
      "text/plain": [
       "     accuracy    algoritmo\n",
       "0      0.9870       arvore\n",
       "1      0.9855       arvore\n",
       "2      0.9905       arvore\n",
       "3      0.9870       arvore\n",
       "4      0.9890       arvore\n",
       "..        ...          ...\n",
       "175    0.9960  rede_neural\n",
       "176    0.9965  rede_neural\n",
       "177    0.9970  rede_neural\n",
       "178    0.9970  rede_neural\n",
       "179    0.9970  rede_neural\n",
       "\n",
       "[180 rows x 2 columns]"
      ]
     },
     "execution_count": 38,
     "metadata": {},
     "output_type": "execute_result"
    }
   ],
   "source": [
    "resultados_df = pd.DataFrame(resultados_algoritmos)\n",
    "resultados_df"
   ]
  },
  {
   "cell_type": "code",
   "execution_count": 39,
   "id": "d55a371d",
   "metadata": {},
   "outputs": [],
   "source": [
    "from statsmodels.stats.multicomp import MultiComparison"
   ]
  },
  {
   "cell_type": "code",
   "execution_count": 40,
   "id": "4ac08e34",
   "metadata": {},
   "outputs": [],
   "source": [
    "compara_algoritmos = MultiComparison(resultados_df['accuracy'], resultados_df['algoritmo'])"
   ]
  },
  {
   "cell_type": "code",
   "execution_count": 41,
   "id": "20f747cd",
   "metadata": {},
   "outputs": [
    {
     "name": "stdout",
     "output_type": "stream",
     "text": [
      "       Multiple Comparison of Means - Tukey HSD, FWER=0.05        \n",
      "==================================================================\n",
      "    group1        group2    meandiff p-adj   lower   upper  reject\n",
      "------------------------------------------------------------------\n",
      "       arvore           knn  -0.0073    0.0 -0.0084 -0.0062   True\n",
      "       arvore     logistica  -0.0404    0.0 -0.0415 -0.0393   True\n",
      "       arvore random_forest  -0.0035    0.0 -0.0046 -0.0024   True\n",
      "       arvore   rede_neural   0.0098    0.0  0.0087  0.0109   True\n",
      "       arvore           svm  -0.0023    0.0 -0.0033 -0.0012   True\n",
      "          knn     logistica  -0.0331    0.0 -0.0342  -0.032   True\n",
      "          knn random_forest   0.0038    0.0  0.0027  0.0049   True\n",
      "          knn   rede_neural   0.0171    0.0   0.016  0.0182   True\n",
      "          knn           svm    0.005    0.0  0.0039  0.0061   True\n",
      "    logistica random_forest   0.0369    0.0  0.0358   0.038   True\n",
      "    logistica   rede_neural   0.0502    0.0  0.0491  0.0513   True\n",
      "    logistica           svm   0.0381    0.0   0.037  0.0392   True\n",
      "random_forest   rede_neural   0.0133    0.0  0.0122  0.0144   True\n",
      "random_forest           svm   0.0012 0.0168  0.0001  0.0023   True\n",
      "  rede_neural           svm   -0.012    0.0 -0.0131 -0.0109   True\n",
      "------------------------------------------------------------------\n"
     ]
    }
   ],
   "source": [
    "teste_estatistico = compara_algoritmos.tukeyhsd()\n",
    "print(teste_estatistico)"
   ]
  },
  {
   "cell_type": "code",
   "execution_count": 42,
   "id": "bc20af52",
   "metadata": {},
   "outputs": [
    {
     "data": {
      "text/plain": [
       "Arvore           0.987333\n",
       "Random forest    0.983850\n",
       "KNN              0.980050\n",
       "Logistica        0.946950\n",
       "SVM              0.985083\n",
       "Rede neural      0.997117\n",
       "dtype: float64"
      ]
     },
     "execution_count": 42,
     "metadata": {},
     "output_type": "execute_result"
    }
   ],
   "source": [
    "resultados.mean()"
   ]
  },
  {
   "cell_type": "code",
   "execution_count": 43,
   "id": "f30644f2",
   "metadata": {},
   "outputs": [
    {
     "data": {
      "image/png": "[encoded data removed]",
      "text/plain": [
       "<Figure size 1000x600 with 1 Axes>"
      ]
     },
     "metadata": {},
     "output_type": "display_data"
    }
   ],
   "source": [
    "teste_estatistico.plot_simultaneous();"
   ]
  },
  {
   "attachments": {},
   "cell_type": "markdown",
   "id": "67791f0c",
   "metadata": {},
   "source": [
    "## salvar um classificador que já foi treinado"
   ]
  },
  {
   "cell_type": "code",
   "execution_count": 44,
   "id": "425acbf7",
   "metadata": {},
   "outputs": [],
   "source": [
    "with open('credit.pkl', 'rb') as f:  \n",
    "  X_credit_treinamento, y_credit_treinamento, X_credit_teste, y_credit_teste = pickle.load(f)"
   ]
  },
  {
   "cell_type": "code",
   "execution_count": 45,
   "id": "5a2f881f",
   "metadata": {},
   "outputs": [],
   "source": [
    "x_credit = np.concatenate((X_credit_treinamento, X_credit_teste), axis= 0)\n",
    "y_credit = np.concatenate((y_credit_treinamento, y_credit_teste), axis=0)"
   ]
  },
  {
   "cell_type": "code",
   "execution_count": 46,
   "id": "11e3d54c",
   "metadata": {},
   "outputs": [
    {
     "name": "stderr",
     "output_type": "stream",
     "text": [
      "c:\\Users\\Usuario\\anaconda3\\lib\\site-packages\\sklearn\\neural_network\\_multilayer_perceptron.py:691: ConvergenceWarning: Stochastic Optimizer: Maximum iterations (200) reached and the optimization hasn't converged yet.\n",
      "  warnings.warn(\n"
     ]
    },
    {
     "data": {
      "text/html": [
       "<style>#sk-container-id-1 {color: black;}#sk-container-id-1 pre{padding: 0;}#sk-container-id-1 div.sk-toggleable {background-color: white;}#sk-container-id-1 label.sk-toggleable__label {cursor: pointer;display: block;width: 100%;margin-bottom: 0;padding: 0.3em;box-sizing: border-box;text-align: center;}#sk-container-id-1 label.sk-toggleable__label-arrow:before {content: \"▸\";float: left;margin-right: 0.25em;color: #696969;}#sk-container-id-1 label.sk-toggleable__label-arrow:hover:before {color: black;}#sk-container-id-1 div.sk-estimator:hover label.sk-toggleable__label-arrow:before {color: black;}#sk-container-id-1 div.sk-toggleable__content {max-height: 0;max-width: 0;overflow: hidden;text-align: left;background-color: #f0f8ff;}#sk-container-id-1 div.sk-toggleable__content pre {margin: 0.2em;color: black;border-radius: 0.25em;background-color: #f0f8ff;}#sk-container-id-1 input.sk-toggleable__control:checked~div.sk-toggleable__content {max-height: 200px;max-width: 100%;overflow: auto;}#sk-container-id-1 input.sk-toggleable__control:checked~label.sk-toggleable__label-arrow:before {content: \"▾\";}#sk-container-id-1 div.sk-estimator input.sk-toggleable__control:checked~label.sk-toggleable__label {background-color: #d4ebff;}#sk-container-id-1 div.sk-label input.sk-toggleable__control:checked~label.sk-toggleable__label {background-color: #d4ebff;}#sk-container-id-1 input.sk-hidden--visually {border: 0;clip: rect(1px 1px 1px 1px);clip: rect(1px, 1px, 1px, 1px);height: 1px;margin: -1px;overflow: hidden;padding: 0;position: absolute;width: 1px;}#sk-container-id-1 div.sk-estimator {font-family: monospace;background-color: #f0f8ff;border: 1px dotted black;border-radius: 0.25em;box-sizing: border-box;margin-bottom: 0.5em;}#sk-container-id-1 div.sk-estimator:hover {background-color: #d4ebff;}#sk-container-id-1 div.sk-parallel-item::after {content: \"\";width: 100%;border-bottom: 1px solid gray;flex-grow: 1;}#sk-container-id-1 div.sk-label:hover label.sk-toggleable__label {background-color: #d4ebff;}#sk-container-id-1 div.sk-serial::before {content: \"\";position: absolute;border-left: 1px solid gray;box-sizing: border-box;top: 0;bottom: 0;left: 50%;z-index: 0;}#sk-container-id-1 div.sk-serial {display: flex;flex-direction: column;align-items: center;background-color: white;padding-right: 0.2em;padding-left: 0.2em;position: relative;}#sk-container-id-1 div.sk-item {position: relative;z-index: 1;}#sk-container-id-1 div.sk-parallel {display: flex;align-items: stretch;justify-content: center;background-color: white;position: relative;}#sk-container-id-1 div.sk-item::before, #sk-container-id-1 div.sk-parallel-item::before {content: \"\";position: absolute;border-left: 1px solid gray;box-sizing: border-box;top: 0;bottom: 0;left: 50%;z-index: -1;}#sk-container-id-1 div.sk-parallel-item {display: flex;flex-direction: column;z-index: 1;position: relative;background-color: white;}#sk-container-id-1 div.sk-parallel-item:first-child::after {align-self: flex-end;width: 50%;}#sk-container-id-1 div.sk-parallel-item:last-child::after {align-self: flex-start;width: 50%;}#sk-container-id-1 div.sk-parallel-item:only-child::after {width: 0;}#sk-container-id-1 div.sk-dashed-wrapped {border: 1px dashed gray;margin: 0 0.4em 0.5em 0.4em;box-sizing: border-box;padding-bottom: 0.4em;background-color: white;}#sk-container-id-1 div.sk-label label {font-family: monospace;font-weight: bold;display: inline-block;line-height: 1.2em;}#sk-container-id-1 div.sk-label-container {text-align: center;}#sk-container-id-1 div.sk-container {/* jupyter's `normalize.less` sets `[hidden] { display: none; }` but bootstrap.min.css set `[hidden] { display: none !important; }` so we also need the `!important` here to be able to override the default hidden behavior on the sphinx rendered scikit-learn.org. See: https://github.com/scikit-learn/scikit-learn/issues/21755 */display: inline-block !important;position: relative;}#sk-container-id-1 div.sk-text-repr-fallback {display: none;}</style><div id=\"sk-container-id-1\" class=\"sk-top-container\"><div class=\"sk-text-repr-fallback\"><pre>MLPClassifier(batch_size=56)</pre><b>In a Jupyter environment, please rerun this cell to show the HTML representation or trust the notebook. <br />On GitHub, the HTML representation is unable to render, please try loading this page with nbviewer.org.</b></div><div class=\"sk-container\" hidden><div class=\"sk-item\"><div class=\"sk-estimator sk-toggleable\"><input class=\"sk-toggleable__control sk-hidden--visually\" id=\"sk-estimator-id-1\" type=\"checkbox\" checked><label for=\"sk-estimator-id-1\" class=\"sk-toggleable__label sk-toggleable__label-arrow\">MLPClassifier</label><div class=\"sk-toggleable__content\"><pre>MLPClassifier(batch_size=56)</pre></div></div></div></div></div>"
      ],
      "text/plain": [
       "MLPClassifier(batch_size=56)"
      ]
     },
     "execution_count": 46,
     "metadata": {},
     "output_type": "execute_result"
    }
   ],
   "source": [
    "classificador_rede_neural = MLPClassifier(activation='relu', batch_size = 56, solver='adam')\n",
    "classificador_rede_neural.fit(X_credit, y_credit)"
   ]
  },
  {
   "cell_type": "code",
   "execution_count": 47,
   "id": "22bbed27",
   "metadata": {},
   "outputs": [
    {
     "data": {
      "text/html": [
       "<style>#sk-container-id-2 {color: black;}#sk-container-id-2 pre{padding: 0;}#sk-container-id-2 div.sk-toggleable {background-color: white;}#sk-container-id-2 label.sk-toggleable__label {cursor: pointer;display: block;width: 100%;margin-bottom: 0;padding: 0.3em;box-sizing: border-box;text-align: center;}#sk-container-id-2 label.sk-toggleable__label-arrow:before {content: \"▸\";float: left;margin-right: 0.25em;color: #696969;}#sk-container-id-2 label.sk-toggleable__label-arrow:hover:before {color: black;}#sk-container-id-2 div.sk-estimator:hover label.sk-toggleable__label-arrow:before {color: black;}#sk-container-id-2 div.sk-toggleable__content {max-height: 0;max-width: 0;overflow: hidden;text-align: left;background-color: #f0f8ff;}#sk-container-id-2 div.sk-toggleable__content pre {margin: 0.2em;color: black;border-radius: 0.25em;background-color: #f0f8ff;}#sk-container-id-2 input.sk-toggleable__control:checked~div.sk-toggleable__content {max-height: 200px;max-width: 100%;overflow: auto;}#sk-container-id-2 input.sk-toggleable__control:checked~label.sk-toggleable__label-arrow:before {content: \"▾\";}#sk-container-id-2 div.sk-estimator input.sk-toggleable__control:checked~label.sk-toggleable__label {background-color: #d4ebff;}#sk-container-id-2 div.sk-label input.sk-toggleable__control:checked~label.sk-toggleable__label {background-color: #d4ebff;}#sk-container-id-2 input.sk-hidden--visually {border: 0;clip: rect(1px 1px 1px 1px);clip: rect(1px, 1px, 1px, 1px);height: 1px;margin: -1px;overflow: hidden;padding: 0;position: absolute;width: 1px;}#sk-container-id-2 div.sk-estimator {font-family: monospace;background-color: #f0f8ff;border: 1px dotted black;border-radius: 0.25em;box-sizing: border-box;margin-bottom: 0.5em;}#sk-container-id-2 div.sk-estimator:hover {background-color: #d4ebff;}#sk-container-id-2 div.sk-parallel-item::after {content: \"\";width: 100%;border-bottom: 1px solid gray;flex-grow: 1;}#sk-container-id-2 div.sk-label:hover label.sk-toggleable__label {background-color: #d4ebff;}#sk-container-id-2 div.sk-serial::before {content: \"\";position: absolute;border-left: 1px solid gray;box-sizing: border-box;top: 0;bottom: 0;left: 50%;z-index: 0;}#sk-container-id-2 div.sk-serial {display: flex;flex-direction: column;align-items: center;background-color: white;padding-right: 0.2em;padding-left: 0.2em;position: relative;}#sk-container-id-2 div.sk-item {position: relative;z-index: 1;}#sk-container-id-2 div.sk-parallel {display: flex;align-items: stretch;justify-content: center;background-color: white;position: relative;}#sk-container-id-2 div.sk-item::before, #sk-container-id-2 div.sk-parallel-item::before {content: \"\";position: absolute;border-left: 1px solid gray;box-sizing: border-box;top: 0;bottom: 0;left: 50%;z-index: -1;}#sk-container-id-2 div.sk-parallel-item {display: flex;flex-direction: column;z-index: 1;position: relative;background-color: white;}#sk-container-id-2 div.sk-parallel-item:first-child::after {align-self: flex-end;width: 50%;}#sk-container-id-2 div.sk-parallel-item:last-child::after {align-self: flex-start;width: 50%;}#sk-container-id-2 div.sk-parallel-item:only-child::after {width: 0;}#sk-container-id-2 div.sk-dashed-wrapped {border: 1px dashed gray;margin: 0 0.4em 0.5em 0.4em;box-sizing: border-box;padding-bottom: 0.4em;background-color: white;}#sk-container-id-2 div.sk-label label {font-family: monospace;font-weight: bold;display: inline-block;line-height: 1.2em;}#sk-container-id-2 div.sk-label-container {text-align: center;}#sk-container-id-2 div.sk-container {/* jupyter's `normalize.less` sets `[hidden] { display: none; }` but bootstrap.min.css set `[hidden] { display: none !important; }` so we also need the `!important` here to be able to override the default hidden behavior on the sphinx rendered scikit-learn.org. See: https://github.com/scikit-learn/scikit-learn/issues/21755 */display: inline-block !important;position: relative;}#sk-container-id-2 div.sk-text-repr-fallback {display: none;}</style><div id=\"sk-container-id-2\" class=\"sk-top-container\"><div class=\"sk-text-repr-fallback\"><pre>DecisionTreeClassifier(criterion=&#x27;entropy&#x27;, min_samples_split=5)</pre><b>In a Jupyter environment, please rerun this cell to show the HTML representation or trust the notebook. <br />On GitHub, the HTML representation is unable to render, please try loading this page with nbviewer.org.</b></div><div class=\"sk-container\" hidden><div class=\"sk-item\"><div class=\"sk-estimator sk-toggleable\"><input class=\"sk-toggleable__control sk-hidden--visually\" id=\"sk-estimator-id-2\" type=\"checkbox\" checked><label for=\"sk-estimator-id-2\" class=\"sk-toggleable__label sk-toggleable__label-arrow\">DecisionTreeClassifier</label><div class=\"sk-toggleable__content\"><pre>DecisionTreeClassifier(criterion=&#x27;entropy&#x27;, min_samples_split=5)</pre></div></div></div></div></div>"
      ],
      "text/plain": [
       "DecisionTreeClassifier(criterion='entropy', min_samples_split=5)"
      ]
     },
     "execution_count": 47,
     "metadata": {},
     "output_type": "execute_result"
    }
   ],
   "source": [
    "classificador_arvore = DecisionTreeClassifier(criterion='entropy', min_samples_leaf=1, min_samples_split=5, splitter='best')\n",
    "classificador_arvore.fit(X_credit, y_credit)"
   ]
  },
  {
   "cell_type": "code",
   "execution_count": 48,
   "id": "ed3c6707",
   "metadata": {},
   "outputs": [
    {
     "data": {
      "text/html": [
       "<style>#sk-container-id-3 {color: black;}#sk-container-id-3 pre{padding: 0;}#sk-container-id-3 div.sk-toggleable {background-color: white;}#sk-container-id-3 label.sk-toggleable__label {cursor: pointer;display: block;width: 100%;margin-bottom: 0;padding: 0.3em;box-sizing: border-box;text-align: center;}#sk-container-id-3 label.sk-toggleable__label-arrow:before {content: \"▸\";float: left;margin-right: 0.25em;color: #696969;}#sk-container-id-3 label.sk-toggleable__label-arrow:hover:before {color: black;}#sk-container-id-3 div.sk-estimator:hover label.sk-toggleable__label-arrow:before {color: black;}#sk-container-id-3 div.sk-toggleable__content {max-height: 0;max-width: 0;overflow: hidden;text-align: left;background-color: #f0f8ff;}#sk-container-id-3 div.sk-toggleable__content pre {margin: 0.2em;color: black;border-radius: 0.25em;background-color: #f0f8ff;}#sk-container-id-3 input.sk-toggleable__control:checked~div.sk-toggleable__content {max-height: 200px;max-width: 100%;overflow: auto;}#sk-container-id-3 input.sk-toggleable__control:checked~label.sk-toggleable__label-arrow:before {content: \"▾\";}#sk-container-id-3 div.sk-estimator input.sk-toggleable__control:checked~label.sk-toggleable__label {background-color: #d4ebff;}#sk-container-id-3 div.sk-label input.sk-toggleable__control:checked~label.sk-toggleable__label {background-color: #d4ebff;}#sk-container-id-3 input.sk-hidden--visually {border: 0;clip: rect(1px 1px 1px 1px);clip: rect(1px, 1px, 1px, 1px);height: 1px;margin: -1px;overflow: hidden;padding: 0;position: absolute;width: 1px;}#sk-container-id-3 div.sk-estimator {font-family: monospace;background-color: #f0f8ff;border: 1px dotted black;border-radius: 0.25em;box-sizing: border-box;margin-bottom: 0.5em;}#sk-container-id-3 div.sk-estimator:hover {background-color: #d4ebff;}#sk-container-id-3 div.sk-parallel-item::after {content: \"\";width: 100%;border-bottom: 1px solid gray;flex-grow: 1;}#sk-container-id-3 div.sk-label:hover label.sk-toggleable__label {background-color: #d4ebff;}#sk-container-id-3 div.sk-serial::before {content: \"\";position: absolute;border-left: 1px solid gray;box-sizing: border-box;top: 0;bottom: 0;left: 50%;z-index: 0;}#sk-container-id-3 div.sk-serial {display: flex;flex-direction: column;align-items: center;background-color: white;padding-right: 0.2em;padding-left: 0.2em;position: relative;}#sk-container-id-3 div.sk-item {position: relative;z-index: 1;}#sk-container-id-3 div.sk-parallel {display: flex;align-items: stretch;justify-content: center;background-color: white;position: relative;}#sk-container-id-3 div.sk-item::before, #sk-container-id-3 div.sk-parallel-item::before {content: \"\";position: absolute;border-left: 1px solid gray;box-sizing: border-box;top: 0;bottom: 0;left: 50%;z-index: -1;}#sk-container-id-3 div.sk-parallel-item {display: flex;flex-direction: column;z-index: 1;position: relative;background-color: white;}#sk-container-id-3 div.sk-parallel-item:first-child::after {align-self: flex-end;width: 50%;}#sk-container-id-3 div.sk-parallel-item:last-child::after {align-self: flex-start;width: 50%;}#sk-container-id-3 div.sk-parallel-item:only-child::after {width: 0;}#sk-container-id-3 div.sk-dashed-wrapped {border: 1px dashed gray;margin: 0 0.4em 0.5em 0.4em;box-sizing: border-box;padding-bottom: 0.4em;background-color: white;}#sk-container-id-3 div.sk-label label {font-family: monospace;font-weight: bold;display: inline-block;line-height: 1.2em;}#sk-container-id-3 div.sk-label-container {text-align: center;}#sk-container-id-3 div.sk-container {/* jupyter's `normalize.less` sets `[hidden] { display: none; }` but bootstrap.min.css set `[hidden] { display: none !important; }` so we also need the `!important` here to be able to override the default hidden behavior on the sphinx rendered scikit-learn.org. See: https://github.com/scikit-learn/scikit-learn/issues/21755 */display: inline-block !important;position: relative;}#sk-container-id-3 div.sk-text-repr-fallback {display: none;}</style><div id=\"sk-container-id-3\" class=\"sk-top-container\"><div class=\"sk-text-repr-fallback\"><pre>SVC(C=2.0, probability=True)</pre><b>In a Jupyter environment, please rerun this cell to show the HTML representation or trust the notebook. <br />On GitHub, the HTML representation is unable to render, please try loading this page with nbviewer.org.</b></div><div class=\"sk-container\" hidden><div class=\"sk-item\"><div class=\"sk-estimator sk-toggleable\"><input class=\"sk-toggleable__control sk-hidden--visually\" id=\"sk-estimator-id-3\" type=\"checkbox\" checked><label for=\"sk-estimator-id-3\" class=\"sk-toggleable__label sk-toggleable__label-arrow\">SVC</label><div class=\"sk-toggleable__content\"><pre>SVC(C=2.0, probability=True)</pre></div></div></div></div></div>"
      ],
      "text/plain": [
       "SVC(C=2.0, probability=True)"
      ]
     },
     "execution_count": 48,
     "metadata": {},
     "output_type": "execute_result"
    }
   ],
   "source": [
    "classificador_svm = SVC(C = 2.0, kernel='rbf', probability=True)\n",
    "classificador_svm.fit(X_credit, y_credit)"
   ]
  },
  {
   "cell_type": "code",
   "execution_count": 49,
   "id": "5f817b29",
   "metadata": {},
   "outputs": [],
   "source": [
    "pickle.dump(classificador_rede_neural, open('rede_neural_finalizado.sav', 'wb'))\n",
    "pickle.dump(classificador_arvore, open('arvore_finalizado.sav', 'wb'))\n",
    "pickle.dump(classificador_svm, open('svm_finalizado.sav', 'wb'))"
   ]
  },
  {
   "cell_type": "code",
   "execution_count": 50,
   "id": "d89c285e",
   "metadata": {},
   "outputs": [],
   "source": [
    "rede_neural = pickle.load(open('rede_neural_finalizado.sav' , 'rb'))\n",
    "arvore = pickle.load(open('arvore_finalizado.sav', 'rb'))\n",
    "svm = pickle.load(open('svm_finalizado.sav', 'rb'))"
   ]
  },
  {
   "cell_type": "code",
   "execution_count": 51,
   "id": "9b64b6e7",
   "metadata": {},
   "outputs": [
    {
     "data": {
      "text/plain": [
       "array([-1.3754462 ,  0.50631087,  0.10980934])"
      ]
     },
     "execution_count": 51,
     "metadata": {},
     "output_type": "execute_result"
    }
   ],
   "source": [
    "novo_registro = x_credit[0]\n",
    "novo_registro"
   ]
  },
  {
   "cell_type": "code",
   "execution_count": 52,
   "id": "b6b60a89",
   "metadata": {},
   "outputs": [
    {
     "data": {
      "text/plain": [
       "(3,)"
      ]
     },
     "execution_count": 52,
     "metadata": {},
     "output_type": "execute_result"
    }
   ],
   "source": [
    "novo_registro.shape"
   ]
  },
  {
   "cell_type": "code",
   "execution_count": 53,
   "id": "dc1a3387",
   "metadata": {},
   "outputs": [
    {
     "data": {
      "text/plain": [
       "(1, 3)"
      ]
     },
     "execution_count": 53,
     "metadata": {},
     "output_type": "execute_result"
    }
   ],
   "source": [
    "novo_registro = novo_registro.reshape(1, -1)\n",
    "novo_registro.shape"
   ]
  },
  {
   "cell_type": "code",
   "execution_count": 54,
   "id": "42526f9b",
   "metadata": {},
   "outputs": [
    {
     "data": {
      "text/plain": [
       "array([0], dtype=int64)"
      ]
     },
     "execution_count": 54,
     "metadata": {},
     "output_type": "execute_result"
    }
   ],
   "source": [
    "rede_neural.predict(novo_registro)"
   ]
  },
  {
   "cell_type": "code",
   "execution_count": 55,
   "id": "8af94f85",
   "metadata": {},
   "outputs": [
    {
     "data": {
      "text/plain": [
       "array([0], dtype=int64)"
      ]
     },
     "execution_count": 55,
     "metadata": {},
     "output_type": "execute_result"
    }
   ],
   "source": [
    "arvore.predict(novo_registro)"
   ]
  },
  {
   "cell_type": "code",
   "execution_count": 56,
   "id": "4a652f82",
   "metadata": {},
   "outputs": [
    {
     "data": {
      "text/plain": [
       "array([0], dtype=int64)"
      ]
     },
     "execution_count": 56,
     "metadata": {},
     "output_type": "execute_result"
    }
   ],
   "source": [
    "svm.predict(novo_registro)"
   ]
  }
 ],
 "metadata": {
  "kernelspec": {
   "display_name": "base",
   "language": "python",
   "name": "python3"
  },
  "language_info": {
   "codemirror_mode": {
    "name": "ipython",
    "version": 3
   },
   "file_extension": ".py",
   "mimetype": "text/x-python",
   "name": "python",
   "nbconvert_exporter": "python",
   "pygments_lexer": "ipython3",
   "version": "3.10.9"
  },
  "vscode": {
   "interpreter": {
    "hash": "6a891b5f2f4d7418d5212aafd423d4fa8f20070c53d9b7258eecfb44c90b6a64"
   }
  }
 },
 "nbformat": 4,
 "nbformat_minor": 5
}

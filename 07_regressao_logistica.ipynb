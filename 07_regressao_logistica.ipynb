{
 "cells": [
  {
   "cell_type": "code",
   "execution_count": 4,
   "id": "f0ca2f4a-2284-4d75-be32-fd0394135088",
   "metadata": {},
   "outputs": [],
   "source": [
    "import pickle\n",
    "import numpy as np\n",
    "import Orange\n",
    "from sklearn.linear_model import LogisticRegression\n",
    "with open('risco_credito.pkl', 'rb') as f:\n",
    "    x_risco_credito, y_risco_credito = pickle.load(f)"
   ]
  },
  {
   "cell_type": "code",
   "execution_count": 5,
   "id": "a781231c-7df6-45fd-8bd7-73c710ae28e9",
   "metadata": {},
   "outputs": [
    {
     "data": {
      "text/plain": [
       "(array([[2, 0, 1, 0],\n",
       "        [1, 0, 1, 1],\n",
       "        [1, 1, 1, 1],\n",
       "        [1, 1, 1, 2],\n",
       "        [1, 1, 1, 2],\n",
       "        [1, 1, 0, 2],\n",
       "        [2, 1, 1, 0],\n",
       "        [2, 1, 0, 2],\n",
       "        [0, 1, 1, 2],\n",
       "        [0, 0, 0, 2],\n",
       "        [0, 0, 1, 0],\n",
       "        [0, 0, 1, 1],\n",
       "        [0, 0, 1, 2],\n",
       "        [2, 0, 1, 1]], dtype=object),\n",
       " array(['alto', 'alto', 'moderado', 'alto', 'baixo', 'baixo', 'alto',\n",
       "        'moderado', 'baixo', 'baixo', 'alto', 'moderado', 'baixo', 'alto'],\n",
       "       dtype=object))"
      ]
     },
     "execution_count": 5,
     "metadata": {},
     "output_type": "execute_result"
    }
   ],
   "source": [
    "x_risco_credito, y_risco_credito"
   ]
  },
  {
   "cell_type": "code",
   "execution_count": 6,
   "id": "12f19a74-f256-48b0-9685-423276c2cfb7",
   "metadata": {},
   "outputs": [],
   "source": [
    "x_risco_credito = np.delete(x_risco_credito, [2,7, 11], axis=0)\n",
    "y_risco_credito = np.delete(y_risco_credito, [2,7, 11], axis=0)"
   ]
  },
  {
   "cell_type": "code",
   "execution_count": 7,
   "id": "c6cc28e3-d8e5-4f75-9ed3-6ff447cb45ab",
   "metadata": {},
   "outputs": [
    {
     "data": {
      "text/plain": [
       "(array([[2, 0, 1, 0],\n",
       "        [1, 0, 1, 1],\n",
       "        [1, 1, 1, 2],\n",
       "        [1, 1, 1, 2],\n",
       "        [1, 1, 0, 2],\n",
       "        [2, 1, 1, 0],\n",
       "        [0, 1, 1, 2],\n",
       "        [0, 0, 0, 2],\n",
       "        [0, 0, 1, 0],\n",
       "        [0, 0, 1, 2],\n",
       "        [2, 0, 1, 1]], dtype=object),\n",
       " array(['alto', 'alto', 'alto', 'baixo', 'baixo', 'alto', 'baixo', 'baixo',\n",
       "        'alto', 'baixo', 'alto'], dtype=object))"
      ]
     },
     "execution_count": 7,
     "metadata": {},
     "output_type": "execute_result"
    }
   ],
   "source": [
    "x_risco_credito, y_risco_credito"
   ]
  },
  {
   "cell_type": "code",
   "execution_count": 8,
   "id": "01fc9089-6aaf-4af2-a07c-5704dab871c8",
   "metadata": {},
   "outputs": [
    {
     "ename": "NameError",
     "evalue": "name 'logistic_risco_credit' is not defined",
     "output_type": "error",
     "traceback": [
      "\u001b[1;31m---------------------------------------------------------------------------\u001b[0m",
      "\u001b[1;31mNameError\u001b[0m                                 Traceback (most recent call last)",
      "Cell \u001b[1;32mIn[8], line 1\u001b[0m\n\u001b[1;32m----> 1\u001b[0m logistic_risco_credit\u001b[39m.\u001b[39mintercept_\n",
      "\u001b[1;31mNameError\u001b[0m: name 'logistic_risco_credit' is not defined"
     ]
    }
   ],
   "source": [
    "logistic_risco_credit.intercept_"
   ]
  },
  {
   "cell_type": "code",
   "execution_count": null,
   "id": "e435aab8-c3bf-434a-9037-6106e8c0d120",
   "metadata": {},
   "outputs": [],
   "source": [
    "logistic_risco_credit.coef_"
   ]
  },
  {
   "cell_type": "code",
   "execution_count": 9,
   "id": "e157b0eb-10c3-4e04-a143-9e732f41b919",
   "metadata": {},
   "outputs": [
    {
     "ename": "NameError",
     "evalue": "name 'logistic_risco_credit' is not defined",
     "output_type": "error",
     "traceback": [
      "\u001b[1;31m---------------------------------------------------------------------------\u001b[0m",
      "\u001b[1;31mNameError\u001b[0m                                 Traceback (most recent call last)",
      "Cell \u001b[1;32mIn[9], line 1\u001b[0m\n\u001b[1;32m----> 1\u001b[0m previsoes1 \u001b[39m=\u001b[39m logistic_risco_credit\u001b[39m.\u001b[39mpredict([[\u001b[39m0\u001b[39m, \u001b[39m0\u001b[39m, \u001b[39m1\u001b[39m, \u001b[39m2\u001b[39m], [\u001b[39m2\u001b[39m, \u001b[39m0\u001b[39m, \u001b[39m0\u001b[39m, \u001b[39m0\u001b[39m]])\n\u001b[0;32m      2\u001b[0m previsoes1\n",
      "\u001b[1;31mNameError\u001b[0m: name 'logistic_risco_credit' is not defined"
     ]
    }
   ],
   "source": [
    "previsoes1 = logistic_risco_credit.predict([[0, 0, 1, 2], [2, 0, 0, 0]])\n",
    "previsoes1"
   ]
  },
  {
   "cell_type": "code",
   "execution_count": 14,
   "id": "c443276d-7a65-4c13-a711-23c6f117b9c5",
   "metadata": {},
   "outputs": [],
   "source": [
    "with open('census.pkl', 'rb') as f:\n",
    "    x_credit_treinamento, y_credit_treinamento, x_credit_teste, y_credit_teste = pickle.load(f)"
   ]
  },
  {
   "cell_type": "code",
   "execution_count": 15,
   "id": "f81506c2-b422-44cc-a2c7-4444b6749b04",
   "metadata": {},
   "outputs": [
    {
     "data": {
      "text/html": [
       "<style>#sk-container-id-2 {color: black;background-color: white;}#sk-container-id-2 pre{padding: 0;}#sk-container-id-2 div.sk-toggleable {background-color: white;}#sk-container-id-2 label.sk-toggleable__label {cursor: pointer;display: block;width: 100%;margin-bottom: 0;padding: 0.3em;box-sizing: border-box;text-align: center;}#sk-container-id-2 label.sk-toggleable__label-arrow:before {content: \"▸\";float: left;margin-right: 0.25em;color: #696969;}#sk-container-id-2 label.sk-toggleable__label-arrow:hover:before {color: black;}#sk-container-id-2 div.sk-estimator:hover label.sk-toggleable__label-arrow:before {color: black;}#sk-container-id-2 div.sk-toggleable__content {max-height: 0;max-width: 0;overflow: hidden;text-align: left;background-color: #f0f8ff;}#sk-container-id-2 div.sk-toggleable__content pre {margin: 0.2em;color: black;border-radius: 0.25em;background-color: #f0f8ff;}#sk-container-id-2 input.sk-toggleable__control:checked~div.sk-toggleable__content {max-height: 200px;max-width: 100%;overflow: auto;}#sk-container-id-2 input.sk-toggleable__control:checked~label.sk-toggleable__label-arrow:before {content: \"▾\";}#sk-container-id-2 div.sk-estimator input.sk-toggleable__control:checked~label.sk-toggleable__label {background-color: #d4ebff;}#sk-container-id-2 div.sk-label input.sk-toggleable__control:checked~label.sk-toggleable__label {background-color: #d4ebff;}#sk-container-id-2 input.sk-hidden--visually {border: 0;clip: rect(1px 1px 1px 1px);clip: rect(1px, 1px, 1px, 1px);height: 1px;margin: -1px;overflow: hidden;padding: 0;position: absolute;width: 1px;}#sk-container-id-2 div.sk-estimator {font-family: monospace;background-color: #f0f8ff;border: 1px dotted black;border-radius: 0.25em;box-sizing: border-box;margin-bottom: 0.5em;}#sk-container-id-2 div.sk-estimator:hover {background-color: #d4ebff;}#sk-container-id-2 div.sk-parallel-item::after {content: \"\";width: 100%;border-bottom: 1px solid gray;flex-grow: 1;}#sk-container-id-2 div.sk-label:hover label.sk-toggleable__label {background-color: #d4ebff;}#sk-container-id-2 div.sk-serial::before {content: \"\";position: absolute;border-left: 1px solid gray;box-sizing: border-box;top: 0;bottom: 0;left: 50%;z-index: 0;}#sk-container-id-2 div.sk-serial {display: flex;flex-direction: column;align-items: center;background-color: white;padding-right: 0.2em;padding-left: 0.2em;position: relative;}#sk-container-id-2 div.sk-item {position: relative;z-index: 1;}#sk-container-id-2 div.sk-parallel {display: flex;align-items: stretch;justify-content: center;background-color: white;position: relative;}#sk-container-id-2 div.sk-item::before, #sk-container-id-2 div.sk-parallel-item::before {content: \"\";position: absolute;border-left: 1px solid gray;box-sizing: border-box;top: 0;bottom: 0;left: 50%;z-index: -1;}#sk-container-id-2 div.sk-parallel-item {display: flex;flex-direction: column;z-index: 1;position: relative;background-color: white;}#sk-container-id-2 div.sk-parallel-item:first-child::after {align-self: flex-end;width: 50%;}#sk-container-id-2 div.sk-parallel-item:last-child::after {align-self: flex-start;width: 50%;}#sk-container-id-2 div.sk-parallel-item:only-child::after {width: 0;}#sk-container-id-2 div.sk-dashed-wrapped {border: 1px dashed gray;margin: 0 0.4em 0.5em 0.4em;box-sizing: border-box;padding-bottom: 0.4em;background-color: white;}#sk-container-id-2 div.sk-label label {font-family: monospace;font-weight: bold;display: inline-block;line-height: 1.2em;}#sk-container-id-2 div.sk-label-container {text-align: center;}#sk-container-id-2 div.sk-container {/* jupyter's `normalize.less` sets `[hidden] { display: none; }` but bootstrap.min.css set `[hidden] { display: none !important; }` so we also need the `!important` here to be able to override the default hidden behavior on the sphinx rendered scikit-learn.org. See: https://github.com/scikit-learn/scikit-learn/issues/21755 */display: inline-block !important;position: relative;}#sk-container-id-2 div.sk-text-repr-fallback {display: none;}</style><div id=\"sk-container-id-2\" class=\"sk-top-container\"><div class=\"sk-text-repr-fallback\"><pre>LogisticRegression(random_state=1)</pre><b>In a Jupyter environment, please rerun this cell to show the HTML representation or trust the notebook. <br />On GitHub, the HTML representation is unable to render, please try loading this page with nbviewer.org.</b></div><div class=\"sk-container\" hidden><div class=\"sk-item\"><div class=\"sk-estimator sk-toggleable\"><input class=\"sk-toggleable__control sk-hidden--visually\" id=\"sk-estimator-id-2\" type=\"checkbox\" checked><label for=\"sk-estimator-id-2\" class=\"sk-toggleable__label sk-toggleable__label-arrow\">LogisticRegression</label><div class=\"sk-toggleable__content\"><pre>LogisticRegression(random_state=1)</pre></div></div></div></div></div>"
      ],
      "text/plain": [
       "LogisticRegression(random_state=1)"
      ]
     },
     "execution_count": 15,
     "metadata": {},
     "output_type": "execute_result"
    }
   ],
   "source": [
    "logistic_credit = LogisticRegression(random_state=1)\n",
    "logistic_credit.fit(x_credit_treinamento, y_credit_treinamento)"
   ]
  },
  {
   "cell_type": "code",
   "execution_count": 16,
   "id": "3c8aff9f-d9be-4ae1-8fc6-3f0699f4aa69",
   "metadata": {},
   "outputs": [
    {
     "data": {
      "text/plain": [
       "array([-2.10474165])"
      ]
     },
     "execution_count": 16,
     "metadata": {},
     "output_type": "execute_result"
    }
   ],
   "source": [
    "logistic_credit.intercept_"
   ]
  },
  {
   "cell_type": "code",
   "execution_count": 17,
   "id": "ca52d30f-71ec-4c78-a534-1dd332842318",
   "metadata": {},
   "outputs": [
    {
     "data": {
      "text/plain": [
       "array([[-6.94469649e-02,  1.18679159e-01, -9.04524758e-03,\n",
       "        -7.81357460e-02,  5.76691457e-02,  5.08994420e-02,\n",
       "        -8.82856549e-02, -5.01462809e-02, -1.42900810e-01,\n",
       "        -1.04784027e-01, -1.19233556e-01, -3.77074867e-02,\n",
       "        -2.08124820e-02, -2.93974652e-02, -8.45705964e-02,\n",
       "        -8.08920718e-02, -8.16248852e-03,  1.09035256e-02,\n",
       "         1.46893853e-01,  1.20194939e-01, -7.84325002e-02,\n",
       "         1.45553932e-01, -4.75278833e-01,  1.14436730e-01,\n",
       "         2.27948173e-02, -1.93347518e-01,  4.38094226e-02,\n",
       "         7.07825942e-01, -6.57034078e-02, -5.23341515e-01,\n",
       "        -1.09247966e-01, -8.94357349e-02, -7.42801130e-02,\n",
       "        -1.40912231e-02, -2.06468670e-02,  2.21547856e-02,\n",
       "         2.51784840e-01, -1.68183468e-01, -1.43046856e-01,\n",
       "        -8.47285978e-02, -2.55735605e-01, -2.68986405e-01,\n",
       "         1.61655356e-01,  8.57817041e-02,  8.33259769e-02,\n",
       "         1.08967512e-01, -2.56717036e-02, -2.99250092e-02,\n",
       "         1.37854640e-01, -8.45026445e-02, -3.08580420e-01,\n",
       "         5.89016700e-02,  2.93293299e-01, -5.25079281e-02,\n",
       "         2.35607642e-02, -2.38298447e-02, -8.59172138e-03,\n",
       "         2.48413428e-02, -2.10986154e-01,  2.10986154e-01,\n",
       "        -1.82292207e-02,  3.69484052e-02,  2.42407730e-02,\n",
       "        -3.37950993e-02, -1.01718308e-01,  2.14245725e-02,\n",
       "        -7.08443487e-02, -8.55253963e-03, -2.88974669e-02,\n",
       "         5.47352856e-04,  1.29720912e-02,  1.25924174e-02,\n",
       "        -3.07081750e-02, -7.16006931e-03, -8.36571903e-04,\n",
       "        -2.51915707e-02, -1.95325832e-02,  1.09305091e-02,\n",
       "        -3.26834702e-03, -1.51127353e-02, -1.98397794e-03,\n",
       "         8.75132579e-03,  4.15960807e-02,  2.22215932e-03,\n",
       "         1.66204032e-02, -3.04280312e-03, -6.37936350e-02,\n",
       "        -4.98508697e-03, -1.31294366e-01, -1.45102273e-02,\n",
       "         6.55403878e-02,  5.82076956e-03, -7.77847203e-04,\n",
       "        -4.41222585e-02,  6.17103840e-03, -4.49162929e-02,\n",
       "         4.20835866e-03, -7.53983053e-03, -2.97415559e-02,\n",
       "         7.45044480e-02, -5.26390205e-02,  1.22595895e-02,\n",
       "         3.41845756e-01,  6.92395544e-02,  3.70826492e-01,\n",
       "         2.35271578e+00,  2.53087455e-01,  3.73197158e-01]])"
      ]
     },
     "execution_count": 17,
     "metadata": {},
     "output_type": "execute_result"
    }
   ],
   "source": [
    "logistic_credit.coef_"
   ]
  },
  {
   "cell_type": "code",
   "execution_count": 18,
   "id": "cd62717a-6930-4096-85b5-9b54401f9f33",
   "metadata": {},
   "outputs": [
    {
     "data": {
      "text/plain": [
       "array([' <=50K', ' <=50K', ' <=50K', ..., ' <=50K', ' <=50K', ' >50K'],\n",
       "      dtype=object)"
      ]
     },
     "execution_count": 18,
     "metadata": {},
     "output_type": "execute_result"
    }
   ],
   "source": [
    "previsoes = logistic_credit.predict(x_credit_teste)\n",
    "previsoes"
   ]
  },
  {
   "cell_type": "code",
   "execution_count": 19,
   "id": "af6eb846-4054-423e-8adb-62118516bfeb",
   "metadata": {},
   "outputs": [
    {
     "data": {
      "text/plain": [
       "array([' <=50K', ' <=50K', ' <=50K', ..., ' <=50K', ' <=50K', ' <=50K'],\n",
       "      dtype=object)"
      ]
     },
     "execution_count": 19,
     "metadata": {},
     "output_type": "execute_result"
    }
   ],
   "source": [
    "y_credit_teste"
   ]
  },
  {
   "cell_type": "code",
   "execution_count": 20,
   "id": "f6dedb0a-09ff-4e99-96a3-e95ecca23faf",
   "metadata": {},
   "outputs": [
    {
     "data": {
      "text/plain": [
       "0.849539406345957"
      ]
     },
     "execution_count": 20,
     "metadata": {},
     "output_type": "execute_result"
    }
   ],
   "source": [
    "from sklearn.metrics import accuracy_score, classification_report\n",
    "accuracy_score(y_credit_teste, previsoes)"
   ]
  },
  {
   "cell_type": "code",
   "execution_count": 22,
   "id": "e3326bc9-0945-496a-a48d-a32859508590",
   "metadata": {},
   "outputs": [
    {
     "data": {
      "text/plain": [
       "0.849539406345957"
      ]
     },
     "execution_count": 22,
     "metadata": {},
     "output_type": "execute_result"
    },
    {
     "data": {
      "image/png": "[encoded data removed]",
      "text/plain": [
       "<Figure size 800x550 with 1 Axes>"
      ]
     },
     "metadata": {},
     "output_type": "display_data"
    }
   ],
   "source": [
    "from yellowbrick.classifier import ConfusionMatrix\n",
    "cm = ConfusionMatrix(logistic_credit)\n",
    "cm.fit(x_credit_treinamento, y_credit_treinamento)\n",
    "cm.score(x_credit_teste, y_credit_teste)"
   ]
  },
  {
   "cell_type": "code",
   "execution_count": 23,
   "id": "3805f5fb",
   "metadata": {},
   "outputs": [
    {
     "name": "stdout",
     "output_type": "stream",
     "text": [
      "              precision    recall  f1-score   support\n",
      "\n",
      "       <=50K       0.88      0.93      0.90      3693\n",
      "        >50K       0.73      0.61      0.66      1192\n",
      "\n",
      "    accuracy                           0.85      4885\n",
      "   macro avg       0.80      0.77      0.78      4885\n",
      "weighted avg       0.84      0.85      0.84      4885\n",
      "\n"
     ]
    }
   ],
   "source": [
    "print(classification_report(y_credit_teste, previsoes))"
   ]
  },
  {
   "cell_type": "code",
   "execution_count": null,
   "id": "c2dc486e",
   "metadata": {},
   "outputs": [],
   "source": []
  }
 ],
 "metadata": {
  "kernelspec": {
   "display_name": "base",
   "language": "python",
   "name": "python3"
  },
  "language_info": {
   "codemirror_mode": {
    "name": "ipython",
    "version": 3
   },
   "file_extension": ".py",
   "mimetype": "text/x-python",
   "name": "python",
   "nbconvert_exporter": "python",
   "pygments_lexer": "ipython3",
   "version": "3.10.9"
  },
  "vscode": {
   "interpreter": {
    "hash": "6a891b5f2f4d7418d5212aafd423d4fa8f20070c53d9b7258eecfb44c90b6a64"
   }
  }
 },
 "nbformat": 4,
 "nbformat_minor": 5
}
